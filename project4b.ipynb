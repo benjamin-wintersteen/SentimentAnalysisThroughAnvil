{
 "cells": [
  {
   "cell_type": "markdown",
   "id": "b1488c85",
   "metadata": {
    "editable": true,
    "slideshow": {
     "slide_type": "slide"
    },
    "tags": []
   },
   "source": [
    "# Project 4b: Goals and Deliverables"
   ]
  },
  {
   "cell_type": "markdown",
   "id": "e09d8c13",
   "metadata": {
    "editable": true,
    "slideshow": {
     "slide_type": "subslide"
    },
    "tags": []
   },
   "source": [
    "The goals of this assignment are:\n",
    "* To work with the object oriented version of our corpus code.\n",
    "* To modify a web app that we can use to analyze text data.\n",
    "* To explore document- and corpus-level analyses using transformer models: summarization, key phrase extraction, and sentiment and topic analysis.\n",
    "\n",
    "\n",
    "Here are the steps you should do to successfully complete this project:\n",
    "1. From moodle, download the files for this project. Upload them into the codespace for project 4a.\n",
    "2. Complete the notebook and commit it to Github. Make sure to answer all questions, and to commit the notebook in a \"run\" state!\n",
    "3. Modify `spacy_on_corpus.py` following the instructions in this notebook.\n",
    "4. Edit the README.md file. Provide your name, your class year, links to/descriptions of any extensions and a list of resources. \n",
    "5. Commit your code often. We will take the last commit before the deadline as your submission of the project.\n",
    "\n",
    "Possible extensions (from least points to most points):\n",
    "\n",
    "Possible extensions (from least points to most points):\n",
    "\n",
    "* Modify the token, entity, and noun chunk get count methods so they count only lower cased tokens, entities and noun chunks.\n",
    "* Modify the [styling](https://anvil.works/learn/tutorials/using-material-3) of the web app. \n",
    "* To the screen `Build Corpus` in the web app, add the ability for the user to choose the language of their input documents.\n",
    "* To the screen `Analyze Document` in the web app, add the ability for the user to choose a value for `top_k` and to choose which token and entity tags to exclude.\n",
    "* Plot more than one analysis at a time in `Analyze Corpus` (see [this page](https://anvil.works/docs/client/components/plots)).\n",
    "* Add the ability for a user to enter jsonl in the input text area on the `Build Corpus` screen.\n",
    "* If you added paragraphs to project 3c, port that over to project 4a.\n",
    "* Add some metadata analysis and visualization on a fourth screen.\n",
    "* Your other ideas are welcome! If you'd like to discuss one with Dr Stent, feel free."
   ]
  },
  {
   "cell_type": "markdown",
   "metadata": {},
   "source": [
    "# Set Up\n",
    "\n",
    "1. Download this notebook, the `requirements.txt` file and the file `creator.jsonl`.\n",
    "2. Upload all three into your project 4a codespace.\n",
    "3. Run % `pip install -r requirements.txt`."
   ]
  },
  {
   "cell_type": "markdown",
   "metadata": {},
   "source": [
    "# Make Sure We Can Work With .py Files We Are Editing\n",
    "\n",
    "Run the code cell below."
   ]
  },
  {
   "cell_type": "code",
   "execution_count": 1,
   "metadata": {},
   "outputs": [],
   "source": [
    "# Automatically reload your external source code\n",
    "%load_ext autoreload\n",
    "%autoreload 2"
   ]
  },
  {
   "cell_type": "markdown",
   "metadata": {},
   "source": [
    "# Get a Corpus\n",
    "\n",
    "In the code cell below, build a corpus using `creator.jsonl`. This will be our test corpus for this project. If you can get `files.jsonl.zip` to load you can use it at the end."
   ]
  },
  {
   "cell_type": "code",
   "execution_count": 2,
   "metadata": {},
   "outputs": [
    {
     "name": "stderr",
     "output_type": "stream",
     "text": [
      "/home/codespace/.local/lib/python3.10/site-packages/tqdm/auto.py:21: TqdmWarning: IProgress not found. Please update jupyter and ipywidgets. See https://ipywidgets.readthedocs.io/en/stable/user_install.html\n",
      "  from .autonotebook import tqdm as notebook_tqdm\n",
      "No model was supplied, defaulted to distilbert-base-uncased-finetuned-sst-2-english and revision af0f99b (https://huggingface.co/distilbert-base-uncased-finetuned-sst-2-english).\n",
      "Using a pipeline without specifying a model name and revision in production is not recommended.\n"
     ]
    },
    {
     "data": {
      "text/plain": [
       "{'1': {'doc': It's a shame that the weak writing undermines The Creator so much, as there are some intriguing concepts that could have been compelling if executed better. For the most part, it's a mishmash of other movies with not much to say on its own.,\n",
       "  'metadata': {'id': '1',\n",
       "   'author': 'Michelle Kisner',\n",
       "   'fullText': \"It's a shame that the weak writing undermines The Creator so much, as there are some intriguing concepts that could have been compelling if executed better. For the most part, it's a mishmash of other movies with not much to say on its own.\"},\n",
       "  'sentiment-analysis': {'label': 'NEGATIVE', 'score': 0.9997203946113586}},\n",
       " '2': {'doc': Although 'New Asia' is America's enemy, we are encouraged to transfer our sympathies in that direction. Yet the abiding vision of Asian life is a mass of touristic clichés seen through western eyes.,\n",
       "  'metadata': {'id': '2',\n",
       "   'author': 'John McDonald',\n",
       "   'fullText': \"Although 'New Asia' is America's enemy, we are encouraged to transfer our sympathies in that direction. Yet the abiding vision of Asian life is a mass of touristic clichés seen through western eyes.\"},\n",
       "  'sentiment-analysis': {'label': 'NEGATIVE', 'score': 0.9748802781105042}},\n",
       " '3': {'doc': The Creator has astonishing visuals, but that's where its charm ends. While the performances are strong, thrilling elements of the film swap actual excitement for a more traditional science fiction film that pays tribute to its influences and little else.,\n",
       "  'metadata': {'id': '3',\n",
       "   'author': 'Chris Sawin',\n",
       "   'fullText': \"The Creator has astonishing visuals, but that's where its charm ends. While the performances are strong, thrilling elements of the film swap actual excitement for a more traditional science fiction film that pays tribute to its influences and little else.\"},\n",
       "  'sentiment-analysis': {'label': 'POSITIVE', 'score': 0.9934230446815491}},\n",
       " '4': {'doc': The Creator is incredibly immersive from a visual and world building perspective, however it leaves a lot to be desired with its writing.,\n",
       "  'metadata': {'id': '4',\n",
       "   'author': 'JD Duran',\n",
       "   'fullText': 'The Creator is incredibly immersive from a visual and world building perspective, however it leaves a lot to be desired with its writing.'},\n",
       "  'sentiment-analysis': {'label': 'NEGATIVE', 'score': 0.9772546291351318}},\n",
       " '5': {'doc': The Creator is a gorgeous feature in all the ways that matter and it's certainly a sci-fi epic that shouldn't be missed in a year that's severely lacking the charm of an old-fashioned blockbuster!,\n",
       "  'metadata': {'id': '5',\n",
       "   'author': 'Connor Petrey',\n",
       "   'fullText': \"The Creator is a gorgeous feature in all the ways that matter and it's certainly a sci-fi epic that shouldn't be missed in a year that's severely lacking the charm of an old-fashioned blockbuster!\"},\n",
       "  'sentiment-analysis': {'label': 'POSITIVE', 'score': 0.9936063289642334}},\n",
       " '6': {'doc': Sincere in its execution and with at times a mystifying beauty, as well as some serious thrills, Edwards has yet again rewarded audiences with his leap of faith.,\n",
       "  'metadata': {'id': '6',\n",
       "   'author': 'James Hanton',\n",
       "   'fullText': 'Sincere in its execution and with at times a mystifying beauty, as well as some serious thrills, Edwards has yet again rewarded audiences with his leap of faith.'},\n",
       "  'sentiment-analysis': {'label': 'POSITIVE', 'score': 0.9998550415039062}},\n",
       " '7': {'doc': The Creator is a thought-provoking, visually memorizing, sci-fi journey that'll tantalize the imagination. Director Gareth Edwards put together an intellectually stimulating film that really challenges audiences to wrestle with profound questions.,\n",
       "  'metadata': {'id': '7',\n",
       "   'author': 'Emmanuel Noisette',\n",
       "   'fullText': \"The Creator is a thought-provoking, visually memorizing, sci-fi journey that'll tantalize the imagination. Director Gareth Edwards put together an intellectually stimulating film that really challenges audiences to wrestle with profound questions.\"},\n",
       "  'sentiment-analysis': {'label': 'POSITIVE', 'score': 0.9998666048049927}},\n",
       " '8': {'doc': Writer-director Gareth Edwards and his collaborator, Chris Weitz, have crafted a script which tries so hard to cover all the ethical dilemmas posed by the rise of artificial intelligence that I'm not sure what it's meant to be saying.,\n",
       "  'metadata': {'id': '8',\n",
       "   'author': 'Sandra Hall',\n",
       "   'fullText': \"Writer-director Gareth Edwards and his collaborator, Chris Weitz, have crafted a script which tries so hard to cover all the ethical dilemmas posed by the rise of artificial intelligence that I'm not sure what it's meant to be saying.\"},\n",
       "  'sentiment-analysis': {'label': 'NEGATIVE', 'score': 0.9866374731063843}},\n",
       " '9': {'doc': The Creator is a 2023 American science fiction action film produced and directed by Gareth Edwards, who co-wrote the screenplay with Chris Weitz. The film stars John David Washington, Gemma Chan, Ken Watanabe, Sturgill Simpson and Allison Janney. Set in 2070, 15 years after a nuclear detonation in Los Angeles and a war against artificial intelligence, an ex-special forces agent is recruited to hunt down and kill the 'Creator,' who has developed a mysterious weapon with the power to end the war.,\n",
       "  'metadata': {'id': '9',\n",
       "   'author': 'Wikipedia',\n",
       "   'fullText': \"The Creator is a 2023 American science fiction action film produced and directed by Gareth Edwards, who co-wrote the screenplay with Chris Weitz. The film stars John David Washington, Gemma Chan, Ken Watanabe, Sturgill Simpson and Allison Janney. Set in 2070, 15 years after a nuclear detonation in Los Angeles and a war against artificial intelligence, an ex-special forces agent is recruited to hunt down and kill the 'Creator,' who has developed a mysterious weapon with the power to end the war.\"},\n",
       "  'sentiment-analysis': {'label': 'POSITIVE', 'score': 0.9977133274078369}},\n",
       " '10': {'doc': Development on the film began in November 2019, when Gareth Edwards signed on to direct and write an untitled science fiction project for New Regency to produce, along with Edwards' Rogue One: A Star Wars Story (2016) co-producer Kiri Hart serving as producer. A test shoot and location scouting was conducted that year, with Edwards using it as the opportunity to envision the look of the film. He described the process: 'I took a camera and a 1970s anamorphic lens, we went location-scouting in Vietnam, Cambodia, Japan, Indonesia, Thailand, and Nepal. Our whole plan was just to go to the greatest locations in the world, because the cost of a flight is way less than the cost of building a set. We were going to hopscotch around the world and shoot this film, then layer in the science-fiction on top afterwards. If our film is trying to achieve something visually, it's trying to feel real in terms of science-fiction.',\n",
       "  'metadata': {'id': '10',\n",
       "   'author': 'Wikipedia',\n",
       "   'fullText': \"Development on the film began in November 2019, when Gareth Edwards signed on to direct and write an untitled science fiction project for New Regency to produce, along with Edwards' Rogue One: A Star Wars Story (2016) co-producer Kiri Hart serving as producer. A test shoot and location scouting was conducted that year, with Edwards using it as the opportunity to envision the look of the film. He described the process: 'I took a camera and a 1970s anamorphic lens, we went location-scouting in Vietnam, Cambodia, Japan, Indonesia, Thailand, and Nepal. Our whole plan was just to go to the greatest locations in the world, because the cost of a flight is way less than the cost of building a set. We were going to hopscotch around the world and shoot this film, then layer in the science-fiction on top afterwards. If our film is trying to achieve something visually, it's trying to feel real in terms of science-fiction.'\"},\n",
       "  'sentiment-analysis': {'label': 'POSITIVE', 'score': 0.6624099016189575}}}"
      ]
     },
     "execution_count": 2,
     "metadata": {},
     "output_type": "execute_result"
    }
   ],
   "source": [
    "from spacy_on_corpus import corpus\n",
    "my_corpus = corpus()\n",
    "corpus.build_corpus('creator.jsonl', my_corpus= my_corpus)\n"
   ]
  },
  {
   "cell_type": "markdown",
   "metadata": {},
   "source": [
    "# Ways We Can Add More NLP\n",
    "\n",
    "There are many python packages that do NLP. Today we will look at three ways to add more NLP to our `corpus` class and our web app:\n",
    "\n",
    "1. Augment spaCy\n",
    "2. Use huggingface transformers\n",
    "3. Use something else (that probably uses huggingface transformers!)"
   ]
  },
  {
   "cell_type": "markdown",
   "metadata": {},
   "source": [
    "# Alternative 1: Augment spaCy\n",
    "\n",
    "spaCy has extra plugins (available from the [spaCy universe](https://spacy.io/universe/) ). These plugins allow you to extend spaCy. We will play with two."
   ]
  },
  {
   "cell_type": "markdown",
   "metadata": {},
   "source": [
    "## Key phrases\n",
    "\n",
    "Let's get some keyphrases!"
   ]
  },
  {
   "cell_type": "code",
   "execution_count": 12,
   "metadata": {},
   "outputs": [
    {
     "name": "stdout",
     "output_type": "stream",
     "text": [
      "['beautiful in the fall', 'quiet roads']\n"
     ]
    }
   ],
   "source": [
    "import pyate\n",
    "import spacy\n",
    "\n",
    "nlp = spacy.load('en_core_web_md')          \n",
    "nlp.add_pipe('combo_basic')\n",
    "\n",
    "doc = nlp('Maine is beautiful in the fall. The leaves turn orange and green and drop from the trees. The quiet roads summon all travelers.')\n",
    "print(list(doc._.combo_basic.keys()))"
   ]
  },
  {
   "cell_type": "markdown",
   "metadata": {},
   "source": [
    "### Add key phrases to the things we can do in our `corpus` class\n",
    "\n",
    "Modify `spacy_on_corpus.py` as follows:\n",
    "1. import `pyate`\n",
    "2. after you make the spacy engine, add this line: `nlp.add_pipe(\"combo_basic\")`\n",
    "3. implement instance method `get_keyphrase_counts` which behaves similarly to `get_token_counts` except the document attribute to retrieve is `_.combo_basic`\n",
    "4. implement instance method `get_keyphrase_statistics`\n",
    "\n",
    "Make sure to add docstrings.\n",
    "\n",
    "Feel free to test in the code cell below."
   ]
  },
  {
   "cell_type": "code",
   "execution_count": 13,
   "metadata": {},
   "outputs": [
    {
     "name": "stdout",
     "output_type": "stream",
     "text": [
      "[('It', 1), ('shame', 1), ('weak', 1), ('undermines', 1), ('there', 1), ('intriguing', 1), ('concepts', 1), ('could', 1), ('been', 1), ('compelling', 1), ('if', 1), ('executed', 1), ('better', 1), ('For', 1), ('most', 1), ('part', 1), ('mishmash', 1), ('other', 1), ('movies', 1), ('say', 1), ('own', 1), ('Although', 1), ('Asia', 1), ('America', 1), ('enemy', 1), ('encouraged', 1), ('transfer', 1), ('sympathies', 1), ('direction', 1), ('Yet', 1), ('abiding', 1), ('vision', 1), ('Asian', 1), ('life', 1), ('mass', 1), ('touristic', 1), ('clichés', 1), ('seen', 1), ('through', 1), ('western', 1), ('eyes', 1), ('astonishing', 1), ('visuals', 1), ('but', 1), ('where', 1), ('ends', 1), ('While', 1), ('performances', 1), ('strong', 1), ('thrilling', 1), ('elements', 1), ('swap', 1), ('actual', 1), ('excitement', 1), ('more', 1), ('traditional', 1), ('pays', 1), ('tribute', 1), ('influences', 1), ('little', 1), ('else', 1), ('incredibly', 1), ('immersive', 1), ('from', 1), ('visual', 1), ('perspective', 1), ('however', 1), ('leaves', 1), ('lot', 1), ('desired', 1), ('gorgeous', 1), ('feature', 1), ('ways', 1), ('matter', 1), ('certainly', 1), ('epic', 1), ('should', 1), (\"n't\", 1), ('missed', 1), ('severely', 1), ('lacking', 1), ('old', 1), ('fashioned', 1), ('blockbuster', 1), ('Sincere', 1), ('execution', 1), ('at', 1), ('times', 1), ('mystifying', 1), ('beauty', 1), ('well', 1), ('serious', 1), ('thrills', 1), ('yet', 1), ('again', 1), ('rewarded', 1), ('leap', 1), ('faith', 1), ('thought', 1), ('provoking', 1), ('memorizing', 1), ('journey', 1), (\"'ll\", 1), ('tantalize', 1), ('imagination', 1), ('Director', 1), ('put', 1), ('together', 1), ('intellectually', 1), ('stimulating', 1), ('really', 1), ('challenges', 1), ('wrestle', 1), ('profound', 1), ('questions', 1), ('Writer', 1), ('director', 1), ('collaborator', 1), ('crafted', 1), ('script', 1), ('which', 1), ('tries', 1), ('hard', 1), ('cover', 1), ('ethical', 1), ('dilemmas', 1), ('posed', 1), ('rise', 1), (\"'m\", 1), ('sure', 1), ('what', 1), ('meant', 1), ('saying', 1), ('2023', 1), ('American', 1), ('action', 1), ('produced', 1), ('directed', 1), ('wrote', 1), ('screenplay', 1), ('stars', 1), ('John', 1), ('David', 1), ('Washington', 1), ('Gemma', 1), ('Chan', 1), ('Ken', 1), ('Watanabe', 1), ('Sturgill', 1), ('Simpson', 1), ('Allison', 1), ('Janney', 1), ('Set', 1), ('2070', 1), ('15', 1), ('years', 1), ('after', 1), ('nuclear', 1), ('detonation', 1), ('Los', 1), ('Angeles', 1), ('against', 1), ('ex', 1), ('special', 1), ('forces', 1), ('agent', 1), ('recruited', 1), ('hunt', 1), ('down', 1), ('kill', 1), ('developed', 1), ('mysterious', 1), ('weapon', 1), ('power', 1), ('end', 1), ('Development', 1), ('began', 1), ('November', 1), ('2019', 1), ('when', 1), ('signed', 1), ('direct', 1), ('write', 1), ('untitled', 1), ('project', 1), ('Regency', 1), ('produce', 1), ('along', 1), (\"'\", 1), ('Rogue', 1), ('One', 1), ('Star', 1), ('Wars', 1), ('Story', 1), ('2016', 1), ('Kiri', 1), ('Hart', 1), ('serving', 1), ('test', 1), ('conducted', 1), ('using', 1), ('opportunity', 1), ('envision', 1), ('look', 1), ('He', 1), ('described', 1), ('process', 1), ('took', 1), ('camera', 1), ('1970s', 1), ('anamorphic', 1), ('lens', 1), ('went', 1), ('Vietnam', 1), ('Cambodia', 1), ('Japan', 1), ('Indonesia', 1), ('Thailand', 1), ('Nepal', 1), ('Our', 1), ('whole', 1), ('plan', 1), ('just', 1), ('go', 1), ('greatest', 1), ('locations', 1), ('because', 1), ('flight', 1), ('way', 1), ('less', 1), ('than', 1), ('set', 1), ('We', 1), ('were', 1), ('going', 1), ('hopscotch', 1), ('around', 1), ('this', 1), ('then', 1), ('layer', 1), ('top', 1), ('afterwards', 1), ('If', 1), ('achieve', 1), ('something', 1), ('feel', 1), ('real', 1), ('terms', 1), ('writing', 2), ('so', 2), ('much', 2), ('some', 2), ('have', 2), ('not', 2), ('New', 2), ('we', 2), ('our', 2), ('charm', 2), ('for', 2), ('building', 2), ('all', 2), ('sci', 2), ('fi', 2), ('year', 2), ('audiences', 2), ('his', 2), ('visually', 2), ('Chris', 2), ('Weitz', 2), ('by', 2), ('artificial', 2), ('intelligence', 2), ('I', 2), ('who', 2), ('co', 2), ('war', 2), ('A', 2), ('producer', 2), ('shoot', 2), ('location', 2), ('scouting', 2), ('was', 2), ('cost', 2), ('trying', 2), ('are', 3), ('has', 3), ('world', 3), ('be', 3), ('-', 3), ('on', 4), ('an', 4), ('Gareth', 4), ('as', 5), ('its', 5), ('science', 5), ('fiction', 5), ('it', 6), ('The', 7), ('Creator', 7), ('Edwards', 7), (\"'s\", 8), ('with', 9), ('is', 9), ('film', 9), ('of', 11), ('in', 11), ('that', 12), ('and', 14), ('to', 17), ('a', 20), ('the', 25)]\n"
     ]
    },
    {
     "data": {
      "text/plain": [
       "[('mishmash of other movies', 1),\n",
       " ('mishmash of other', 1),\n",
       " ('weak writing', 1),\n",
       " ('intriguing concepts', 1),\n",
       " ('most part', 1),\n",
       " ('other movies', 1),\n",
       " ('sympathies in that direction', 1),\n",
       " ('vision of Asian life', 1),\n",
       " ('vision of Asian', 1),\n",
       " ('mass of touristic', 1),\n",
       " ('Asian life', 1),\n",
       " ('western eyes', 1),\n",
       " ('elements of the film', 1),\n",
       " ('traditional science fiction film', 1),\n",
       " ('traditional science fiction', 1),\n",
       " ('science fiction film', 1),\n",
       " ('astonishing visuals', 1),\n",
       " ('actual excitement', 1),\n",
       " ('traditional science', 1),\n",
       " ('fiction film', 1),\n",
       " ('immersive from a visual', 1),\n",
       " ('world building perspective', 1),\n",
       " ('world building', 1),\n",
       " ('building perspective', 1),\n",
       " ('gorgeous feature in all the ways', 1),\n",
       " ('feature in all the ways', 1),\n",
       " ('charm of an old', 1),\n",
       " ('gorgeous feature', 1),\n",
       " ('fi epic', 1),\n",
       " ('fashioned blockbuster', 1),\n",
       " ('leap of faith', 1),\n",
       " ('serious thrills', 1),\n",
       " ('fi journey', 1),\n",
       " ('stimulating film', 1),\n",
       " ('profound questions', 1),\n",
       " ('rise of artificial intelligence', 1),\n",
       " ('rise of artificial', 1),\n",
       " ('ethical dilemmas', 1),\n",
       " ('American science fiction action film', 1),\n",
       " ('years after a nuclear detonation', 1),\n",
       " ('mysterious weapon with the power', 1),\n",
       " ('American science fiction action', 1),\n",
       " ('science fiction action film', 1),\n",
       " ('years after a nuclear', 1),\n",
       " ('war against artificial intelligence', 1),\n",
       " ('weapon with the power', 1),\n",
       " ('American science fiction', 1),\n",
       " ('science fiction action', 1),\n",
       " ('fiction action film', 1),\n",
       " ('war against artificial', 1),\n",
       " ('special forces agent', 1),\n",
       " ('American science', 1),\n",
       " ('fiction action', 1),\n",
       " ('action film', 1),\n",
       " ('nuclear detonation', 1),\n",
       " ('special forces', 1),\n",
       " ('forces agent', 1),\n",
       " ('mysterious weapon', 1),\n",
       " ('greatest locations in the world', 1),\n",
       " ('real in terms of science', 1),\n",
       " ('Development on the film', 1),\n",
       " ('untitled science fiction project', 1),\n",
       " ('look of the film', 1),\n",
       " ('locations in the world', 1),\n",
       " ('cost of a flight', 1),\n",
       " ('less than the cost', 1),\n",
       " ('layer in the science', 1),\n",
       " ('untitled science fiction', 1),\n",
       " ('science fiction project', 1),\n",
       " ('fiction on top', 1),\n",
       " ('real in terms', 1),\n",
       " ('terms of science', 1),\n",
       " ('untitled science', 1),\n",
       " ('fiction project', 1),\n",
       " ('test shoot', 1),\n",
       " ('location scouting', 1),\n",
       " ('anamorphic lens', 1),\n",
       " ('whole plan', 1),\n",
       " ('greatest locations', 1),\n",
       " ('artificial intelligence', 2),\n",
       " ('science fiction', 3)]"
      ]
     },
     "execution_count": 13,
     "metadata": {},
     "output_type": "execute_result"
    }
   ],
   "source": [
    "print(my_corpus.get_token_counts())\n",
    "my_corpus.get_keyphrase_counts()\n"
   ]
  },
  {
   "cell_type": "markdown",
   "metadata": {},
   "source": [
    "### Add keyphrases to our web app's server\n",
    "\n",
    "In the notebook for project4a, define a function `get_corpus_keyphrases_statistics` that returns a list of sentiment types and their frequencies (a counter of positive sentiment, negative sentiment and neutral sentiment documents in the corpus).\n",
    "\n",
    "\n",
    "Make sure to add docstrings.\n",
    "\n",
    "Feel free to test in the code cell below."
   ]
  },
  {
   "cell_type": "code",
   "execution_count": null,
   "metadata": {},
   "outputs": [],
   "source": []
  },
  {
   "cell_type": "markdown",
   "metadata": {},
   "source": [
    "### Add keyphrases to our web app's client\n",
    "\n",
    "1. Add a button for key phrases to the `Analyze Corpus` form\n",
    "2. Add a function in the code for that form that calls `get_keyphrase_statistics`\n",
    "3. Add a plot of the sentiment counts to the web app\n",
    "4. If the user chooses key phrases and either count or cloud, print an error message"
   ]
  },
  {
   "cell_type": "markdown",
   "metadata": {},
   "source": [
    "### Questions:\n",
    "1. *What is `_.combo_basic'? Is it an instance attribute, instance method, class attribute or class method of class `doc`?*\n",
    "Instance attribute because _.combo_basic is an attribute relating to an instance of a doc class. We run the .keys() method on it.\n",
    "2. *Why do we not implement `plot_keyphrase_counts` or `plot_keyphrase_cloud`?*\n",
    "Because most of the keyphrase counts are unique it wouldn't give us much information. \n",
    "3. *Rebuild your corpus now that you have added functionality. Look at the keyphrases. Do you agree that these capture the essence of this corpus?*\n",
    "Yes, they provide lots of the important core data about the corpus. If looking for quick synthesis keywords can give core meaning. "
   ]
  },
  {
   "cell_type": "markdown",
   "metadata": {},
   "source": [
    "# Alternative 2: Use huggingface transformers\n",
    "\n",
    "[Huggingface](https://www.crunchbase.com/organization/hugging-face/) is a Brooklyn-based company that was founded just about the time the first transformer models for NLP became famous. Its business model is open source.\n",
    "\n",
    "The huggingface staff:\n",
    "\n",
    "* host transformer-related data, code, models, data sheets, model cards and applications\n",
    "* help people more easily use transformers (for NLP, computer vision and other AI applications)\n",
    "* help people more easily *fine tune* transformers (we will do that!)\n",
    "* consult with companies on how to operationalize and scale their use of transformers"
   ]
  },
  {
   "cell_type": "markdown",
   "metadata": {},
   "source": [
    "## `transformers`\n",
    "\n",
    "Because of the huggingface `transformers` package, we can easily use transformers ourselves!\n"
   ]
  },
  {
   "cell_type": "markdown",
   "metadata": {},
   "source": [
    "## Sentiment analysis\n",
    "\n",
    "Let's make a transformers `pipeline` for sentiment analysis. Sentiment analysis is a NLP task that estimates the *polarity* (and sometimes the *strength*) of the sentiment communicated by a text."
   ]
  },
  {
   "cell_type": "code",
   "execution_count": 14,
   "metadata": {},
   "outputs": [
    {
     "name": "stderr",
     "output_type": "stream",
     "text": [
      "No model was supplied, defaulted to distilbert-base-uncased-finetuned-sst-2-english and revision af0f99b (https://huggingface.co/distilbert-base-uncased-finetuned-sst-2-english).\n",
      "Using a pipeline without specifying a model name and revision in production is not recommended.\n"
     ]
    },
    {
     "name": "stdout",
     "output_type": "stream",
     "text": [
      "[{'label': 'POSITIVE', 'score': 0.9997126460075378}]\n"
     ]
    }
   ],
   "source": [
    "from transformers import pipeline\n",
    "\n",
    "classifier = pipeline(\"sentiment-analysis\")\n",
    "print(classifier('Maine is beautiful in the fall. The leaves turn orange and green and drop from the trees. The quiet roads summon all travelers.'))"
   ]
  },
  {
   "cell_type": "markdown",
   "metadata": {},
   "source": [
    "Now let's get key phrases from each document in our corpus."
   ]
  },
  {
   "cell_type": "code",
   "execution_count": 15,
   "metadata": {},
   "outputs": [
    {
     "name": "stderr",
     "output_type": "stream",
     "text": [
      "No model was supplied, defaulted to distilbert-base-uncased-finetuned-sst-2-english and revision af0f99b (https://huggingface.co/distilbert-base-uncased-finetuned-sst-2-english).\n",
      "Using a pipeline without specifying a model name and revision in production is not recommended.\n"
     ]
    },
    {
     "name": "stdout",
     "output_type": "stream",
     "text": [
      "It's a shame that the weak writing undermines The Creator so much, as there are some intriguing concepts that could have been compelling if executed better. For the most part, it's a mishmash of other movies with not much to say on its own.\n",
      "Although 'New Asia' is America's enemy, we are encouraged to transfer our sympathies in that direction. Yet the abiding vision of Asian life is a mass of touristic clichés seen through western eyes.\n",
      "The Creator has astonishing visuals, but that's where its charm ends. While the performances are strong, thrilling elements of the film swap actual excitement for a more traditional science fiction film that pays tribute to its influences and little else.\n",
      "The Creator is incredibly immersive from a visual and world building perspective, however it leaves a lot to be desired with its writing.\n",
      "The Creator is a gorgeous feature in all the ways that matter and it's certainly a sci-fi epic that shouldn't be missed in a year that's severely lacking the charm of an old-fashioned blockbuster!\n",
      "Sincere in its execution and with at times a mystifying beauty, as well as some serious thrills, Edwards has yet again rewarded audiences with his leap of faith.\n",
      "The Creator is a thought-provoking, visually memorizing, sci-fi journey that'll tantalize the imagination. Director Gareth Edwards put together an intellectually stimulating film that really challenges audiences to wrestle with profound questions.\n",
      "Writer-director Gareth Edwards and his collaborator, Chris Weitz, have crafted a script which tries so hard to cover all the ethical dilemmas posed by the rise of artificial intelligence that I'm not sure what it's meant to be saying.\n",
      "The Creator is a 2023 American science fiction action film produced and directed by Gareth Edwards, who co-wrote the screenplay with Chris Weitz. The film stars John David Washington, Gemma Chan, Ken Watanabe, Sturgill Simpson and Allison Janney. Set in 2070, 15 years after a nuclear detonation in Los Angeles and a war against artificial intelligence, an ex-special forces agent is recruited to hunt down and kill the 'Creator,' who has developed a mysterious weapon with the power to end the war.\n",
      "Development on the film began in November 2019, when Gareth Edwards signed on to direct and write an untitled science fiction project for New Regency to produce, along with Edwards' Rogue One: A Star Wars Story (2016) co-producer Kiri Hart serving as producer. A test shoot and location scouting was conducted that year, with Edwards using it as the opportunity to envision the look of the film. He described the process: 'I took a camera and a 1970s anamorphic lens, we went location-scouting in Vietnam, Cambodia, Japan, Indonesia, Thailand, and Nepal. Our whole plan was just to go to the greatest locations in the world, because the cost of a flight is way less than the cost of building a set. We were going to hopscotch around the world and shoot this film, then layer in the science-fiction on top afterwards. If our film is trying to achieve something visually, it's trying to feel real in terms of science-fiction.'\n",
      "[{'label': 'NEGATIVE', 'score': 0.9997203946113586}, {'label': 'NEGATIVE', 'score': 0.9748802781105042}, {'label': 'POSITIVE', 'score': 0.9934230446815491}, {'label': 'NEGATIVE', 'score': 0.9772546291351318}, {'label': 'POSITIVE', 'score': 0.9936063289642334}, {'label': 'POSITIVE', 'score': 0.9998550415039062}, {'label': 'POSITIVE', 'score': 0.9998666048049927}, {'label': 'NEGATIVE', 'score': 0.9866374731063843}, {'label': 'POSITIVE', 'score': 0.9977133274078369}, {'label': 'POSITIVE', 'score': 0.6624099016189575}]\n",
      "{'1': {'doc': It's a shame that the weak writing undermines The Creator so much, as there are some intriguing concepts that could have been compelling if executed better. For the most part, it's a mishmash of other movies with not much to say on its own., 'metadata': {'id': '1', 'author': 'Michelle Kisner', 'fullText': \"It's a shame that the weak writing undermines The Creator so much, as there are some intriguing concepts that could have been compelling if executed better. For the most part, it's a mishmash of other movies with not much to say on its own.\", 'sentiment_label': 'NEGATIVE', 'sentiment_score': 0.9997203946113586}, 'sentiment-analysis': {'label': 'NEGATIVE', 'score': 0.9997203946113586}}, '2': {'doc': Although 'New Asia' is America's enemy, we are encouraged to transfer our sympathies in that direction. Yet the abiding vision of Asian life is a mass of touristic clichés seen through western eyes., 'metadata': {'id': '2', 'author': 'John McDonald', 'fullText': \"Although 'New Asia' is America's enemy, we are encouraged to transfer our sympathies in that direction. Yet the abiding vision of Asian life is a mass of touristic clichés seen through western eyes.\", 'sentiment_label': 'NEGATIVE', 'sentiment_score': 0.9748802781105042}, 'sentiment-analysis': {'label': 'NEGATIVE', 'score': 0.9748802781105042}}, '3': {'doc': The Creator has astonishing visuals, but that's where its charm ends. While the performances are strong, thrilling elements of the film swap actual excitement for a more traditional science fiction film that pays tribute to its influences and little else., 'metadata': {'id': '3', 'author': 'Chris Sawin', 'fullText': \"The Creator has astonishing visuals, but that's where its charm ends. While the performances are strong, thrilling elements of the film swap actual excitement for a more traditional science fiction film that pays tribute to its influences and little else.\", 'sentiment_label': 'POSITIVE', 'sentiment_score': 0.9934230446815491}, 'sentiment-analysis': {'label': 'POSITIVE', 'score': 0.9934230446815491}}, '4': {'doc': The Creator is incredibly immersive from a visual and world building perspective, however it leaves a lot to be desired with its writing., 'metadata': {'id': '4', 'author': 'JD Duran', 'fullText': 'The Creator is incredibly immersive from a visual and world building perspective, however it leaves a lot to be desired with its writing.', 'sentiment_label': 'NEGATIVE', 'sentiment_score': 0.9772546291351318}, 'sentiment-analysis': {'label': 'NEGATIVE', 'score': 0.9772546291351318}}, '5': {'doc': The Creator is a gorgeous feature in all the ways that matter and it's certainly a sci-fi epic that shouldn't be missed in a year that's severely lacking the charm of an old-fashioned blockbuster!, 'metadata': {'id': '5', 'author': 'Connor Petrey', 'fullText': \"The Creator is a gorgeous feature in all the ways that matter and it's certainly a sci-fi epic that shouldn't be missed in a year that's severely lacking the charm of an old-fashioned blockbuster!\", 'sentiment_label': 'POSITIVE', 'sentiment_score': 0.9936063289642334}, 'sentiment-analysis': {'label': 'POSITIVE', 'score': 0.9936063289642334}}, '6': {'doc': Sincere in its execution and with at times a mystifying beauty, as well as some serious thrills, Edwards has yet again rewarded audiences with his leap of faith., 'metadata': {'id': '6', 'author': 'James Hanton', 'fullText': 'Sincere in its execution and with at times a mystifying beauty, as well as some serious thrills, Edwards has yet again rewarded audiences with his leap of faith.', 'sentiment_label': 'POSITIVE', 'sentiment_score': 0.9998550415039062}, 'sentiment-analysis': {'label': 'POSITIVE', 'score': 0.9998550415039062}}, '7': {'doc': The Creator is a thought-provoking, visually memorizing, sci-fi journey that'll tantalize the imagination. Director Gareth Edwards put together an intellectually stimulating film that really challenges audiences to wrestle with profound questions., 'metadata': {'id': '7', 'author': 'Emmanuel Noisette', 'fullText': \"The Creator is a thought-provoking, visually memorizing, sci-fi journey that'll tantalize the imagination. Director Gareth Edwards put together an intellectually stimulating film that really challenges audiences to wrestle with profound questions.\", 'sentiment_label': 'POSITIVE', 'sentiment_score': 0.9998666048049927}, 'sentiment-analysis': {'label': 'POSITIVE', 'score': 0.9998666048049927}}, '8': {'doc': Writer-director Gareth Edwards and his collaborator, Chris Weitz, have crafted a script which tries so hard to cover all the ethical dilemmas posed by the rise of artificial intelligence that I'm not sure what it's meant to be saying., 'metadata': {'id': '8', 'author': 'Sandra Hall', 'fullText': \"Writer-director Gareth Edwards and his collaborator, Chris Weitz, have crafted a script which tries so hard to cover all the ethical dilemmas posed by the rise of artificial intelligence that I'm not sure what it's meant to be saying.\", 'sentiment_label': 'NEGATIVE', 'sentiment_score': 0.9866374731063843}, 'sentiment-analysis': {'label': 'NEGATIVE', 'score': 0.9866374731063843}}, '9': {'doc': The Creator is a 2023 American science fiction action film produced and directed by Gareth Edwards, who co-wrote the screenplay with Chris Weitz. The film stars John David Washington, Gemma Chan, Ken Watanabe, Sturgill Simpson and Allison Janney. Set in 2070, 15 years after a nuclear detonation in Los Angeles and a war against artificial intelligence, an ex-special forces agent is recruited to hunt down and kill the 'Creator,' who has developed a mysterious weapon with the power to end the war., 'metadata': {'id': '9', 'author': 'Wikipedia', 'fullText': \"The Creator is a 2023 American science fiction action film produced and directed by Gareth Edwards, who co-wrote the screenplay with Chris Weitz. The film stars John David Washington, Gemma Chan, Ken Watanabe, Sturgill Simpson and Allison Janney. Set in 2070, 15 years after a nuclear detonation in Los Angeles and a war against artificial intelligence, an ex-special forces agent is recruited to hunt down and kill the 'Creator,' who has developed a mysterious weapon with the power to end the war.\", 'sentiment_label': 'POSITIVE', 'sentiment_score': 0.9977133274078369}, 'sentiment-analysis': {'label': 'POSITIVE', 'score': 0.9977133274078369}}, '10': {'doc': Development on the film began in November 2019, when Gareth Edwards signed on to direct and write an untitled science fiction project for New Regency to produce, along with Edwards' Rogue One: A Star Wars Story (2016) co-producer Kiri Hart serving as producer. A test shoot and location scouting was conducted that year, with Edwards using it as the opportunity to envision the look of the film. He described the process: 'I took a camera and a 1970s anamorphic lens, we went location-scouting in Vietnam, Cambodia, Japan, Indonesia, Thailand, and Nepal. Our whole plan was just to go to the greatest locations in the world, because the cost of a flight is way less than the cost of building a set. We were going to hopscotch around the world and shoot this film, then layer in the science-fiction on top afterwards. If our film is trying to achieve something visually, it's trying to feel real in terms of science-fiction.', 'metadata': {'id': '10', 'author': 'Wikipedia', 'fullText': \"Development on the film began in November 2019, when Gareth Edwards signed on to direct and write an untitled science fiction project for New Regency to produce, along with Edwards' Rogue One: A Star Wars Story (2016) co-producer Kiri Hart serving as producer. A test shoot and location scouting was conducted that year, with Edwards using it as the opportunity to envision the look of the film. He described the process: 'I took a camera and a 1970s anamorphic lens, we went location-scouting in Vietnam, Cambodia, Japan, Indonesia, Thailand, and Nepal. Our whole plan was just to go to the greatest locations in the world, because the cost of a flight is way less than the cost of building a set. We were going to hopscotch around the world and shoot this film, then layer in the science-fiction on top afterwards. If our film is trying to achieve something visually, it's trying to feel real in terms of science-fiction.'\", 'sentiment_label': 'POSITIVE', 'sentiment_score': 0.6624099016189575}, 'sentiment-analysis': {'label': 'POSITIVE', 'score': 0.6624099016189575}}}\n"
     ]
    }
   ],
   "source": [
    "from transformers import pipeline\n",
    "\n",
    "classifier = pipeline(\"sentiment-analysis\")\n",
    "\n",
    "# get a list of the document ids in the corpus\n",
    "keys = list(my_corpus.keys())\n",
    "# get the text from each entry in the corpus\n",
    "text = my_corpus.get_documents()\n",
    "# there are two ways to get the text from each entry in the corpus!\n",
    "\n",
    "# print the texts\n",
    "print(*text, sep = \"\\n\")\n",
    "# do sentiment analysis\n",
    "results = []\n",
    "for doc in text:\n",
    "    results.extend(classifier(str(doc)))\n",
    "# print the results\n",
    "print(results)\n",
    "# add the sentiment label and score into the metadata for each entry in the corpus\n",
    "for i, result in enumerate(results):\n",
    "    my_corpus[keys[i]]['metadata']['sentiment_label'] = result['label']\n",
    "    my_corpus[keys[i]]['metadata']['sentiment_score'] = result['score']\n",
    "print(my_corpus)"
   ]
  },
  {
   "cell_type": "markdown",
   "metadata": {},
   "source": [
    "Well, we just used transformers, the most advanced NLP model type known today! \n",
    "\n",
    "A huggingface `pipeline` pulls together a tokenizer, one or more models, and some post-processing. It can operate over a single text or a list of texts.\n",
    "\n",
    "[There are NLP pipelines](https://huggingface.co/docs/transformers/main_classes/pipelines) for:\n",
    "\n",
    "* named entity recognition\n",
    "* sentiment analysis\n",
    "* summarization\n",
    "* question answering\n",
    "* text classification\n",
    "* translation\n",
    "\n",
    "There are also computer vision and speech pipelines.\n",
    "\n",
    "You can change the sentiment model. Copy the code from above into a new code cell. Investigate the sentiment models available - try at least one more. \n"
   ]
  },
  {
   "cell_type": "code",
   "execution_count": 16,
   "metadata": {},
   "outputs": [
    {
     "name": "stderr",
     "output_type": "stream",
     "text": [
      "No model was supplied, defaulted to t5-base and revision 686f1db (https://huggingface.co/t5-base).\n",
      "Using a pipeline without specifying a model name and revision in production is not recommended.\n"
     ]
    },
    {
     "name": "stderr",
     "output_type": "stream",
     "text": [
      "config.json: 100%|██████████| 1.21k/1.21k [00:00<00:00, 5.56MB/s]\n",
      "model.safetensors: 100%|██████████| 892M/892M [00:02<00:00, 312MB/s] \n",
      "generation_config.json: 100%|██████████| 147/147 [00:00<00:00, 915kB/s]\n",
      "spiece.model: 100%|██████████| 792k/792k [00:00<00:00, 15.1MB/s]\n",
      "tokenizer.json: 100%|██████████| 1.39M/1.39M [00:03<00:00, 361kB/s]\n",
      "/home/codespace/.local/lib/python3.10/site-packages/transformers/models/t5/tokenization_t5_fast.py:160: FutureWarning: This tokenizer was incorrectly instantiated with a model max length of 512 which will be corrected in Transformers v5.\n",
      "For now, this behavior is kept to avoid breaking backwards compatibility when padding/encoding with `truncation is True`.\n",
      "- Be aware that you SHOULD NOT rely on t5-base automatically truncating your input to 512 when padding/encoding.\n",
      "- If you want to encode/pad to sequences longer than 512 you can either instantiate this tokenizer with `model_max_length` or pass `max_length` when encoding/padding.\n",
      "- To avoid this warning, please instantiate this tokenizer with `model_max_length` set to your preferred value.\n",
      "  warnings.warn(\n"
     ]
    }
   ],
   "source": [
    "from transformers import pipeline\n",
    "\n",
    "classifier2 = pipeline(\"translation_en_to_fr\")"
   ]
  },
  {
   "cell_type": "code",
   "execution_count": 17,
   "metadata": {},
   "outputs": [
    {
     "name": "stdout",
     "output_type": "stream",
     "text": [
      "It's a shame that the weak writing undermines The Creator so much, as there are some intriguing concepts that could have been compelling if executed better. For the most part, it's a mishmash of other movies with not much to say on its own.\n",
      "Although 'New Asia' is America's enemy, we are encouraged to transfer our sympathies in that direction. Yet the abiding vision of Asian life is a mass of touristic clichés seen through western eyes.\n",
      "The Creator has astonishing visuals, but that's where its charm ends. While the performances are strong, thrilling elements of the film swap actual excitement for a more traditional science fiction film that pays tribute to its influences and little else.\n",
      "The Creator is incredibly immersive from a visual and world building perspective, however it leaves a lot to be desired with its writing.\n",
      "The Creator is a gorgeous feature in all the ways that matter and it's certainly a sci-fi epic that shouldn't be missed in a year that's severely lacking the charm of an old-fashioned blockbuster!\n",
      "Sincere in its execution and with at times a mystifying beauty, as well as some serious thrills, Edwards has yet again rewarded audiences with his leap of faith.\n",
      "The Creator is a thought-provoking, visually memorizing, sci-fi journey that'll tantalize the imagination. Director Gareth Edwards put together an intellectually stimulating film that really challenges audiences to wrestle with profound questions.\n",
      "Writer-director Gareth Edwards and his collaborator, Chris Weitz, have crafted a script which tries so hard to cover all the ethical dilemmas posed by the rise of artificial intelligence that I'm not sure what it's meant to be saying.\n",
      "The Creator is a 2023 American science fiction action film produced and directed by Gareth Edwards, who co-wrote the screenplay with Chris Weitz. The film stars John David Washington, Gemma Chan, Ken Watanabe, Sturgill Simpson and Allison Janney. Set in 2070, 15 years after a nuclear detonation in Los Angeles and a war against artificial intelligence, an ex-special forces agent is recruited to hunt down and kill the 'Creator,' who has developed a mysterious weapon with the power to end the war.\n",
      "Development on the film began in November 2019, when Gareth Edwards signed on to direct and write an untitled science fiction project for New Regency to produce, along with Edwards' Rogue One: A Star Wars Story (2016) co-producer Kiri Hart serving as producer. A test shoot and location scouting was conducted that year, with Edwards using it as the opportunity to envision the look of the film. He described the process: 'I took a camera and a 1970s anamorphic lens, we went location-scouting in Vietnam, Cambodia, Japan, Indonesia, Thailand, and Nepal. Our whole plan was just to go to the greatest locations in the world, because the cost of a flight is way less than the cost of building a set. We were going to hopscotch around the world and shoot this film, then layer in the science-fiction on top afterwards. If our film is trying to achieve something visually, it's trying to feel real in terms of science-fiction.'\n",
      "[{'translation_text': \"C'est une honte que la faiblesse de l'écriture sape autant The Creator, car il y a des concepts intriguants qui auraient pu être convaincants s'ils avaient été mieux exécutés.\"}, {'translation_text': 'Bien que la \"nouvelle Asie\" soit l\\'ennemi de l\\'Amérique, nous sommes encouragés à transmettre nos sympathie dans cette direction, mais la vision constante de la vie asiatique est une masse de clichés touristiques perçus par les yeux occidentaux.'}, {'translation_text': \"Le créateur a des visuels stupéfiants, mais c'est là que son charme s'arrête : bien que les performances soient fortes, les éléments passionnants du film échangent l'excitation réelle pour un film plus traditionnel de science-fiction qui rend hommage à ses influences et peu d'autres choses.\"}, {'translation_text': \"Le Créateur est incroyablement immersive d'un point de vue visuel et de construction de mondes, mais il laisse beaucoup à désirer avec son écriture.\"}, {'translation_text': \"Le Créateur est un épisode magnifique à tous les égards et c'est certainement une épopée sci-fi qui ne devrait pas être manquée dans une année qui manque cruellement le charme d'un blockbuster de l'époque!\"}, {'translation_text': 'Dans son exécution sincère et avec parfois une beauté mystifiante et quelques émotions sérieuses, Edwards a encore une fois récompensé le public par son saut de foi.'}, {'translation_text': \"Le Créateur est un voyage sci-fi stimulant, visuellement mémorisant et attirant l'imagination. Le réalisateur Gareth Edwards a mis sur pied un film stimulant sur le plan intellectuel qui défie réellement le public à se battre avec des questions profondes.\"}, {'translation_text': \"L'écrivain-réalisateur Gareth Edwards et son collaborateur Chris Weitz ont conçu un scénario qui essaie si dur de couvrir tous les dilemmes éthiques posés par l'essor de l'intelligence artificielle que je ne suis pas certain de ce qu'il entend dire.\"}, {'translation_text': \"The Creator est un film d'action américain de science-fiction de 2023 produit et réalisé par Gareth Edwards, qui a co-rédigé le scénario avec Chris Weitz.\"}, {'translation_text': \"Le développement du film a commencé en novembre 2019, lorsque Gareth Edwards s'est engagé à diriger et à rédiger un projet non intitulé de science-fiction pour la production de New Regency, en compagnie de Kiri Hart, coproductrice de Rogue One: A Star Wars Story (2016). Un tournage d'essai et des scouts sur les lieux ont été effectués cette année-là, Edwards utilisant cette occasion pour\"}]\n",
      "{'1': {'doc': It's a shame that the weak writing undermines The Creator so much, as there are some intriguing concepts that could have been compelling if executed better. For the most part, it's a mishmash of other movies with not much to say on its own., 'metadata': {'id': '1', 'author': 'Michelle Kisner', 'fullText': \"It's a shame that the weak writing undermines The Creator so much, as there are some intriguing concepts that could have been compelling if executed better. For the most part, it's a mishmash of other movies with not much to say on its own.\", 'sentiment_label': \"C'est une honte que la faiblesse de l'écriture sape autant The Creator, car il y a des concepts intriguants qui auraient pu être convaincants s'ils avaient été mieux exécutés.\", 'sentiment_score': 0.9997203946113586}, 'sentiment-analysis': {'label': 'NEGATIVE', 'score': 0.9997203946113586}}, '2': {'doc': Although 'New Asia' is America's enemy, we are encouraged to transfer our sympathies in that direction. Yet the abiding vision of Asian life is a mass of touristic clichés seen through western eyes., 'metadata': {'id': '2', 'author': 'John McDonald', 'fullText': \"Although 'New Asia' is America's enemy, we are encouraged to transfer our sympathies in that direction. Yet the abiding vision of Asian life is a mass of touristic clichés seen through western eyes.\", 'sentiment_label': 'Bien que la \"nouvelle Asie\" soit l\\'ennemi de l\\'Amérique, nous sommes encouragés à transmettre nos sympathie dans cette direction, mais la vision constante de la vie asiatique est une masse de clichés touristiques perçus par les yeux occidentaux.', 'sentiment_score': 0.9748802781105042}, 'sentiment-analysis': {'label': 'NEGATIVE', 'score': 0.9748802781105042}}, '3': {'doc': The Creator has astonishing visuals, but that's where its charm ends. While the performances are strong, thrilling elements of the film swap actual excitement for a more traditional science fiction film that pays tribute to its influences and little else., 'metadata': {'id': '3', 'author': 'Chris Sawin', 'fullText': \"The Creator has astonishing visuals, but that's where its charm ends. While the performances are strong, thrilling elements of the film swap actual excitement for a more traditional science fiction film that pays tribute to its influences and little else.\", 'sentiment_label': \"Le créateur a des visuels stupéfiants, mais c'est là que son charme s'arrête : bien que les performances soient fortes, les éléments passionnants du film échangent l'excitation réelle pour un film plus traditionnel de science-fiction qui rend hommage à ses influences et peu d'autres choses.\", 'sentiment_score': 0.9934230446815491}, 'sentiment-analysis': {'label': 'POSITIVE', 'score': 0.9934230446815491}}, '4': {'doc': The Creator is incredibly immersive from a visual and world building perspective, however it leaves a lot to be desired with its writing., 'metadata': {'id': '4', 'author': 'JD Duran', 'fullText': 'The Creator is incredibly immersive from a visual and world building perspective, however it leaves a lot to be desired with its writing.', 'sentiment_label': \"Le Créateur est incroyablement immersive d'un point de vue visuel et de construction de mondes, mais il laisse beaucoup à désirer avec son écriture.\", 'sentiment_score': 0.9772546291351318}, 'sentiment-analysis': {'label': 'NEGATIVE', 'score': 0.9772546291351318}}, '5': {'doc': The Creator is a gorgeous feature in all the ways that matter and it's certainly a sci-fi epic that shouldn't be missed in a year that's severely lacking the charm of an old-fashioned blockbuster!, 'metadata': {'id': '5', 'author': 'Connor Petrey', 'fullText': \"The Creator is a gorgeous feature in all the ways that matter and it's certainly a sci-fi epic that shouldn't be missed in a year that's severely lacking the charm of an old-fashioned blockbuster!\", 'sentiment_label': \"Le Créateur est un épisode magnifique à tous les égards et c'est certainement une épopée sci-fi qui ne devrait pas être manquée dans une année qui manque cruellement le charme d'un blockbuster de l'époque!\", 'sentiment_score': 0.9936063289642334}, 'sentiment-analysis': {'label': 'POSITIVE', 'score': 0.9936063289642334}}, '6': {'doc': Sincere in its execution and with at times a mystifying beauty, as well as some serious thrills, Edwards has yet again rewarded audiences with his leap of faith., 'metadata': {'id': '6', 'author': 'James Hanton', 'fullText': 'Sincere in its execution and with at times a mystifying beauty, as well as some serious thrills, Edwards has yet again rewarded audiences with his leap of faith.', 'sentiment_label': 'Dans son exécution sincère et avec parfois une beauté mystifiante et quelques émotions sérieuses, Edwards a encore une fois récompensé le public par son saut de foi.', 'sentiment_score': 0.9998550415039062}, 'sentiment-analysis': {'label': 'POSITIVE', 'score': 0.9998550415039062}}, '7': {'doc': The Creator is a thought-provoking, visually memorizing, sci-fi journey that'll tantalize the imagination. Director Gareth Edwards put together an intellectually stimulating film that really challenges audiences to wrestle with profound questions., 'metadata': {'id': '7', 'author': 'Emmanuel Noisette', 'fullText': \"The Creator is a thought-provoking, visually memorizing, sci-fi journey that'll tantalize the imagination. Director Gareth Edwards put together an intellectually stimulating film that really challenges audiences to wrestle with profound questions.\", 'sentiment_label': \"Le Créateur est un voyage sci-fi stimulant, visuellement mémorisant et attirant l'imagination. Le réalisateur Gareth Edwards a mis sur pied un film stimulant sur le plan intellectuel qui défie réellement le public à se battre avec des questions profondes.\", 'sentiment_score': 0.9998666048049927}, 'sentiment-analysis': {'label': 'POSITIVE', 'score': 0.9998666048049927}}, '8': {'doc': Writer-director Gareth Edwards and his collaborator, Chris Weitz, have crafted a script which tries so hard to cover all the ethical dilemmas posed by the rise of artificial intelligence that I'm not sure what it's meant to be saying., 'metadata': {'id': '8', 'author': 'Sandra Hall', 'fullText': \"Writer-director Gareth Edwards and his collaborator, Chris Weitz, have crafted a script which tries so hard to cover all the ethical dilemmas posed by the rise of artificial intelligence that I'm not sure what it's meant to be saying.\", 'sentiment_label': \"L'écrivain-réalisateur Gareth Edwards et son collaborateur Chris Weitz ont conçu un scénario qui essaie si dur de couvrir tous les dilemmes éthiques posés par l'essor de l'intelligence artificielle que je ne suis pas certain de ce qu'il entend dire.\", 'sentiment_score': 0.9866374731063843}, 'sentiment-analysis': {'label': 'NEGATIVE', 'score': 0.9866374731063843}}, '9': {'doc': The Creator is a 2023 American science fiction action film produced and directed by Gareth Edwards, who co-wrote the screenplay with Chris Weitz. The film stars John David Washington, Gemma Chan, Ken Watanabe, Sturgill Simpson and Allison Janney. Set in 2070, 15 years after a nuclear detonation in Los Angeles and a war against artificial intelligence, an ex-special forces agent is recruited to hunt down and kill the 'Creator,' who has developed a mysterious weapon with the power to end the war., 'metadata': {'id': '9', 'author': 'Wikipedia', 'fullText': \"The Creator is a 2023 American science fiction action film produced and directed by Gareth Edwards, who co-wrote the screenplay with Chris Weitz. The film stars John David Washington, Gemma Chan, Ken Watanabe, Sturgill Simpson and Allison Janney. Set in 2070, 15 years after a nuclear detonation in Los Angeles and a war against artificial intelligence, an ex-special forces agent is recruited to hunt down and kill the 'Creator,' who has developed a mysterious weapon with the power to end the war.\", 'sentiment_label': \"The Creator est un film d'action américain de science-fiction de 2023 produit et réalisé par Gareth Edwards, qui a co-rédigé le scénario avec Chris Weitz.\", 'sentiment_score': 0.9977133274078369}, 'sentiment-analysis': {'label': 'POSITIVE', 'score': 0.9977133274078369}}, '10': {'doc': Development on the film began in November 2019, when Gareth Edwards signed on to direct and write an untitled science fiction project for New Regency to produce, along with Edwards' Rogue One: A Star Wars Story (2016) co-producer Kiri Hart serving as producer. A test shoot and location scouting was conducted that year, with Edwards using it as the opportunity to envision the look of the film. He described the process: 'I took a camera and a 1970s anamorphic lens, we went location-scouting in Vietnam, Cambodia, Japan, Indonesia, Thailand, and Nepal. Our whole plan was just to go to the greatest locations in the world, because the cost of a flight is way less than the cost of building a set. We were going to hopscotch around the world and shoot this film, then layer in the science-fiction on top afterwards. If our film is trying to achieve something visually, it's trying to feel real in terms of science-fiction.', 'metadata': {'id': '10', 'author': 'Wikipedia', 'fullText': \"Development on the film began in November 2019, when Gareth Edwards signed on to direct and write an untitled science fiction project for New Regency to produce, along with Edwards' Rogue One: A Star Wars Story (2016) co-producer Kiri Hart serving as producer. A test shoot and location scouting was conducted that year, with Edwards using it as the opportunity to envision the look of the film. He described the process: 'I took a camera and a 1970s anamorphic lens, we went location-scouting in Vietnam, Cambodia, Japan, Indonesia, Thailand, and Nepal. Our whole plan was just to go to the greatest locations in the world, because the cost of a flight is way less than the cost of building a set. We were going to hopscotch around the world and shoot this film, then layer in the science-fiction on top afterwards. If our film is trying to achieve something visually, it's trying to feel real in terms of science-fiction.'\", 'sentiment_label': \"Le développement du film a commencé en novembre 2019, lorsque Gareth Edwards s'est engagé à diriger et à rédiger un projet non intitulé de science-fiction pour la production de New Regency, en compagnie de Kiri Hart, coproductrice de Rogue One: A Star Wars Story (2016). Un tournage d'essai et des scouts sur les lieux ont été effectués cette année-là, Edwards utilisant cette occasion pour\", 'sentiment_score': 0.6624099016189575}, 'sentiment-analysis': {'label': 'POSITIVE', 'score': 0.6624099016189575}}}\n"
     ]
    }
   ],
   "source": [
    "# get a list of the document ids in the corpus\n",
    "keys = list(my_corpus.keys())\n",
    "# get the text from each entry in the corpus\n",
    "text = my_corpus.get_documents()\n",
    "# there are two ways to get the text from each entry in the corpus!\n",
    "\n",
    "# print the texts\n",
    "print(*text, sep = \"\\n\")\n",
    "# do sentiment analysis\n",
    "results = []\n",
    "for doc in text:\n",
    "    results.extend(classifier2(str(doc)))\n",
    "# print the results\n",
    "print(results)\n",
    "# add the sentiment label and score into the metadata for each entry in the corpus\n",
    "for i, result in enumerate(results):\n",
    "    my_corpus[keys[i]]['metadata']['sentiment_label'] = result['translation_text']\n",
    "print(my_corpus)"
   ]
  },
  {
   "cell_type": "markdown",
   "metadata": {},
   "source": [
    "### A little abstraction\n",
    "\n",
    "Before we proceed, let's make a function to get the texts of all the documents out of the corpus.\n",
    "\n",
    "In `spacy_on_corpus.py`:\n",
    "* add an instance method to class `corpus` called `get_document_texts`. It should return a list of pairs (id, text).\n",
    "* add an instance method to class `corpus` called `update_document_metadata`. It should take a document id and a dictionary of metadata key:value pairs. It should add each key:value pair to the document in the corpus at the id, and if there is no such document id in the corpus it should print an error message.\n",
    "\n",
    "\n",
    "\n",
    "Now copy the code from above into a new code cell. Modify it to use `get_document_texts` and `update_document_metadata`."
   ]
  },
  {
   "cell_type": "code",
   "execution_count": 18,
   "metadata": {},
   "outputs": [
    {
     "name": "stdout",
     "output_type": "stream",
     "text": [
      "('1', It's a shame that the weak writing undermines The Creator so much, as there are some intriguing concepts that could have been compelling if executed better. For the most part, it's a mishmash of other movies with not much to say on its own.)\n",
      "('2', Although 'New Asia' is America's enemy, we are encouraged to transfer our sympathies in that direction. Yet the abiding vision of Asian life is a mass of touristic clichés seen through western eyes.)\n",
      "('3', The Creator has astonishing visuals, but that's where its charm ends. While the performances are strong, thrilling elements of the film swap actual excitement for a more traditional science fiction film that pays tribute to its influences and little else.)\n",
      "('4', The Creator is incredibly immersive from a visual and world building perspective, however it leaves a lot to be desired with its writing.)\n",
      "('5', The Creator is a gorgeous feature in all the ways that matter and it's certainly a sci-fi epic that shouldn't be missed in a year that's severely lacking the charm of an old-fashioned blockbuster!)\n",
      "('6', Sincere in its execution and with at times a mystifying beauty, as well as some serious thrills, Edwards has yet again rewarded audiences with his leap of faith.)\n",
      "('7', The Creator is a thought-provoking, visually memorizing, sci-fi journey that'll tantalize the imagination. Director Gareth Edwards put together an intellectually stimulating film that really challenges audiences to wrestle with profound questions.)\n",
      "('8', Writer-director Gareth Edwards and his collaborator, Chris Weitz, have crafted a script which tries so hard to cover all the ethical dilemmas posed by the rise of artificial intelligence that I'm not sure what it's meant to be saying.)\n",
      "('9', The Creator is a 2023 American science fiction action film produced and directed by Gareth Edwards, who co-wrote the screenplay with Chris Weitz. The film stars John David Washington, Gemma Chan, Ken Watanabe, Sturgill Simpson and Allison Janney. Set in 2070, 15 years after a nuclear detonation in Los Angeles and a war against artificial intelligence, an ex-special forces agent is recruited to hunt down and kill the 'Creator,' who has developed a mysterious weapon with the power to end the war.)\n",
      "('10', Development on the film began in November 2019, when Gareth Edwards signed on to direct and write an untitled science fiction project for New Regency to produce, along with Edwards' Rogue One: A Star Wars Story (2016) co-producer Kiri Hart serving as producer. A test shoot and location scouting was conducted that year, with Edwards using it as the opportunity to envision the look of the film. He described the process: 'I took a camera and a 1970s anamorphic lens, we went location-scouting in Vietnam, Cambodia, Japan, Indonesia, Thailand, and Nepal. Our whole plan was just to go to the greatest locations in the world, because the cost of a flight is way less than the cost of building a set. We were going to hopscotch around the world and shoot this film, then layer in the science-fiction on top afterwards. If our film is trying to achieve something visually, it's trying to feel real in terms of science-fiction.')\n",
      "[{'translation_text': \"C'est une honte que la faiblesse de l'écriture sape autant The Creator, car il y a des concepts intriguants qui auraient pu être convaincants s'ils avaient été mieux exécutés.\"}, {'translation_text': 'Bien que la \"nouvelle Asie\" soit l\\'ennemi de l\\'Amérique, nous sommes encouragés à transmettre nos sympathie dans cette direction, mais la vision constante de la vie asiatique est une masse de clichés touristiques perçus par les yeux occidentaux.'}, {'translation_text': \"Le créateur a des visuels stupéfiants, mais c'est là que son charme s'arrête : bien que les performances soient fortes, les éléments passionnants du film échangent l'excitation réelle pour un film plus traditionnel de science-fiction qui rend hommage à ses influences et peu d'autres choses.\"}, {'translation_text': \"Le Créateur est incroyablement immersive d'un point de vue visuel et de construction de mondes, mais il laisse beaucoup à désirer avec son écriture.\"}, {'translation_text': \"Le Créateur est un épisode magnifique à tous les égards et c'est certainement une épopée sci-fi qui ne devrait pas être manquée dans une année qui manque cruellement le charme d'un blockbuster de l'époque!\"}, {'translation_text': 'Dans son exécution sincère et avec parfois une beauté mystifiante et quelques émotions sérieuses, Edwards a encore une fois récompensé le public par son saut de foi.'}, {'translation_text': \"Le Créateur est un voyage sci-fi stimulant, visuellement mémorisant et attirant l'imagination. Le réalisateur Gareth Edwards a mis sur pied un film stimulant sur le plan intellectuel qui défie réellement le public à se battre avec des questions profondes.\"}, {'translation_text': \"L'écrivain-réalisateur Gareth Edwards et son collaborateur Chris Weitz ont conçu un scénario qui essaie si dur de couvrir tous les dilemmes éthiques posés par l'essor de l'intelligence artificielle que je ne suis pas certain de ce qu'il entend dire.\"}, {'translation_text': \"The Creator est un film d'action américain de science-fiction de 2023 produit et réalisé par Gareth Edwards, qui a co-rédigé le scénario avec Chris Weitz.\"}, {'translation_text': \"Le développement du film a commencé en novembre 2019, lorsque Gareth Edwards s'est engagé à diriger et à rédiger un projet non intitulé de science-fiction pour la production de New Regency, en compagnie de Kiri Hart, coproductrice de Rogue One: A Star Wars Story (2016). Un tournage d'essai et des scouts sur les lieux ont été effectués cette année-là, Edwards utilisant cette occasion pour\"}]\n",
      "{'1': {'doc': It's a shame that the weak writing undermines The Creator so much, as there are some intriguing concepts that could have been compelling if executed better. For the most part, it's a mishmash of other movies with not much to say on its own., 'metadata': {'id': '1', 'author': 'Michelle Kisner', 'fullText': \"It's a shame that the weak writing undermines The Creator so much, as there are some intriguing concepts that could have been compelling if executed better. For the most part, it's a mishmash of other movies with not much to say on its own.\", 'sentiment_label': \"C'est une honte que la faiblesse de l'écriture sape autant The Creator, car il y a des concepts intriguants qui auraient pu être convaincants s'ils avaient été mieux exécutés.\", 'sentiment_score': 0.9997203946113586, 'translation_text': \"C'est une honte que la faiblesse de l'écriture sape autant The Creator, car il y a des concepts intriguants qui auraient pu être convaincants s'ils avaient été mieux exécutés.\"}, 'sentiment-analysis': {'label': 'NEGATIVE', 'score': 0.9997203946113586}}, '2': {'doc': Although 'New Asia' is America's enemy, we are encouraged to transfer our sympathies in that direction. Yet the abiding vision of Asian life is a mass of touristic clichés seen through western eyes., 'metadata': {'id': '2', 'author': 'John McDonald', 'fullText': \"Although 'New Asia' is America's enemy, we are encouraged to transfer our sympathies in that direction. Yet the abiding vision of Asian life is a mass of touristic clichés seen through western eyes.\", 'sentiment_label': 'Bien que la \"nouvelle Asie\" soit l\\'ennemi de l\\'Amérique, nous sommes encouragés à transmettre nos sympathie dans cette direction, mais la vision constante de la vie asiatique est une masse de clichés touristiques perçus par les yeux occidentaux.', 'sentiment_score': 0.9748802781105042, 'translation_text': 'Bien que la \"nouvelle Asie\" soit l\\'ennemi de l\\'Amérique, nous sommes encouragés à transmettre nos sympathie dans cette direction, mais la vision constante de la vie asiatique est une masse de clichés touristiques perçus par les yeux occidentaux.'}, 'sentiment-analysis': {'label': 'NEGATIVE', 'score': 0.9748802781105042}}, '3': {'doc': The Creator has astonishing visuals, but that's where its charm ends. While the performances are strong, thrilling elements of the film swap actual excitement for a more traditional science fiction film that pays tribute to its influences and little else., 'metadata': {'id': '3', 'author': 'Chris Sawin', 'fullText': \"The Creator has astonishing visuals, but that's where its charm ends. While the performances are strong, thrilling elements of the film swap actual excitement for a more traditional science fiction film that pays tribute to its influences and little else.\", 'sentiment_label': \"Le créateur a des visuels stupéfiants, mais c'est là que son charme s'arrête : bien que les performances soient fortes, les éléments passionnants du film échangent l'excitation réelle pour un film plus traditionnel de science-fiction qui rend hommage à ses influences et peu d'autres choses.\", 'sentiment_score': 0.9934230446815491, 'translation_text': \"Le créateur a des visuels stupéfiants, mais c'est là que son charme s'arrête : bien que les performances soient fortes, les éléments passionnants du film échangent l'excitation réelle pour un film plus traditionnel de science-fiction qui rend hommage à ses influences et peu d'autres choses.\"}, 'sentiment-analysis': {'label': 'POSITIVE', 'score': 0.9934230446815491}}, '4': {'doc': The Creator is incredibly immersive from a visual and world building perspective, however it leaves a lot to be desired with its writing., 'metadata': {'id': '4', 'author': 'JD Duran', 'fullText': 'The Creator is incredibly immersive from a visual and world building perspective, however it leaves a lot to be desired with its writing.', 'sentiment_label': \"Le Créateur est incroyablement immersive d'un point de vue visuel et de construction de mondes, mais il laisse beaucoup à désirer avec son écriture.\", 'sentiment_score': 0.9772546291351318, 'translation_text': \"Le Créateur est incroyablement immersive d'un point de vue visuel et de construction de mondes, mais il laisse beaucoup à désirer avec son écriture.\"}, 'sentiment-analysis': {'label': 'NEGATIVE', 'score': 0.9772546291351318}}, '5': {'doc': The Creator is a gorgeous feature in all the ways that matter and it's certainly a sci-fi epic that shouldn't be missed in a year that's severely lacking the charm of an old-fashioned blockbuster!, 'metadata': {'id': '5', 'author': 'Connor Petrey', 'fullText': \"The Creator is a gorgeous feature in all the ways that matter and it's certainly a sci-fi epic that shouldn't be missed in a year that's severely lacking the charm of an old-fashioned blockbuster!\", 'sentiment_label': \"Le Créateur est un épisode magnifique à tous les égards et c'est certainement une épopée sci-fi qui ne devrait pas être manquée dans une année qui manque cruellement le charme d'un blockbuster de l'époque!\", 'sentiment_score': 0.9936063289642334, 'translation_text': \"Le Créateur est un épisode magnifique à tous les égards et c'est certainement une épopée sci-fi qui ne devrait pas être manquée dans une année qui manque cruellement le charme d'un blockbuster de l'époque!\"}, 'sentiment-analysis': {'label': 'POSITIVE', 'score': 0.9936063289642334}}, '6': {'doc': Sincere in its execution and with at times a mystifying beauty, as well as some serious thrills, Edwards has yet again rewarded audiences with his leap of faith., 'metadata': {'id': '6', 'author': 'James Hanton', 'fullText': 'Sincere in its execution and with at times a mystifying beauty, as well as some serious thrills, Edwards has yet again rewarded audiences with his leap of faith.', 'sentiment_label': 'Dans son exécution sincère et avec parfois une beauté mystifiante et quelques émotions sérieuses, Edwards a encore une fois récompensé le public par son saut de foi.', 'sentiment_score': 0.9998550415039062, 'translation_text': 'Dans son exécution sincère et avec parfois une beauté mystifiante et quelques émotions sérieuses, Edwards a encore une fois récompensé le public par son saut de foi.'}, 'sentiment-analysis': {'label': 'POSITIVE', 'score': 0.9998550415039062}}, '7': {'doc': The Creator is a thought-provoking, visually memorizing, sci-fi journey that'll tantalize the imagination. Director Gareth Edwards put together an intellectually stimulating film that really challenges audiences to wrestle with profound questions., 'metadata': {'id': '7', 'author': 'Emmanuel Noisette', 'fullText': \"The Creator is a thought-provoking, visually memorizing, sci-fi journey that'll tantalize the imagination. Director Gareth Edwards put together an intellectually stimulating film that really challenges audiences to wrestle with profound questions.\", 'sentiment_label': \"Le Créateur est un voyage sci-fi stimulant, visuellement mémorisant et attirant l'imagination. Le réalisateur Gareth Edwards a mis sur pied un film stimulant sur le plan intellectuel qui défie réellement le public à se battre avec des questions profondes.\", 'sentiment_score': 0.9998666048049927, 'translation_text': \"Le Créateur est un voyage sci-fi stimulant, visuellement mémorisant et attirant l'imagination. Le réalisateur Gareth Edwards a mis sur pied un film stimulant sur le plan intellectuel qui défie réellement le public à se battre avec des questions profondes.\"}, 'sentiment-analysis': {'label': 'POSITIVE', 'score': 0.9998666048049927}}, '8': {'doc': Writer-director Gareth Edwards and his collaborator, Chris Weitz, have crafted a script which tries so hard to cover all the ethical dilemmas posed by the rise of artificial intelligence that I'm not sure what it's meant to be saying., 'metadata': {'id': '8', 'author': 'Sandra Hall', 'fullText': \"Writer-director Gareth Edwards and his collaborator, Chris Weitz, have crafted a script which tries so hard to cover all the ethical dilemmas posed by the rise of artificial intelligence that I'm not sure what it's meant to be saying.\", 'sentiment_label': \"L'écrivain-réalisateur Gareth Edwards et son collaborateur Chris Weitz ont conçu un scénario qui essaie si dur de couvrir tous les dilemmes éthiques posés par l'essor de l'intelligence artificielle que je ne suis pas certain de ce qu'il entend dire.\", 'sentiment_score': 0.9866374731063843, 'translation_text': \"L'écrivain-réalisateur Gareth Edwards et son collaborateur Chris Weitz ont conçu un scénario qui essaie si dur de couvrir tous les dilemmes éthiques posés par l'essor de l'intelligence artificielle que je ne suis pas certain de ce qu'il entend dire.\"}, 'sentiment-analysis': {'label': 'NEGATIVE', 'score': 0.9866374731063843}}, '9': {'doc': The Creator is a 2023 American science fiction action film produced and directed by Gareth Edwards, who co-wrote the screenplay with Chris Weitz. The film stars John David Washington, Gemma Chan, Ken Watanabe, Sturgill Simpson and Allison Janney. Set in 2070, 15 years after a nuclear detonation in Los Angeles and a war against artificial intelligence, an ex-special forces agent is recruited to hunt down and kill the 'Creator,' who has developed a mysterious weapon with the power to end the war., 'metadata': {'id': '9', 'author': 'Wikipedia', 'fullText': \"The Creator is a 2023 American science fiction action film produced and directed by Gareth Edwards, who co-wrote the screenplay with Chris Weitz. The film stars John David Washington, Gemma Chan, Ken Watanabe, Sturgill Simpson and Allison Janney. Set in 2070, 15 years after a nuclear detonation in Los Angeles and a war against artificial intelligence, an ex-special forces agent is recruited to hunt down and kill the 'Creator,' who has developed a mysterious weapon with the power to end the war.\", 'sentiment_label': \"The Creator est un film d'action américain de science-fiction de 2023 produit et réalisé par Gareth Edwards, qui a co-rédigé le scénario avec Chris Weitz.\", 'sentiment_score': 0.9977133274078369, 'translation_text': \"The Creator est un film d'action américain de science-fiction de 2023 produit et réalisé par Gareth Edwards, qui a co-rédigé le scénario avec Chris Weitz.\"}, 'sentiment-analysis': {'label': 'POSITIVE', 'score': 0.9977133274078369}}, '10': {'doc': Development on the film began in November 2019, when Gareth Edwards signed on to direct and write an untitled science fiction project for New Regency to produce, along with Edwards' Rogue One: A Star Wars Story (2016) co-producer Kiri Hart serving as producer. A test shoot and location scouting was conducted that year, with Edwards using it as the opportunity to envision the look of the film. He described the process: 'I took a camera and a 1970s anamorphic lens, we went location-scouting in Vietnam, Cambodia, Japan, Indonesia, Thailand, and Nepal. Our whole plan was just to go to the greatest locations in the world, because the cost of a flight is way less than the cost of building a set. We were going to hopscotch around the world and shoot this film, then layer in the science-fiction on top afterwards. If our film is trying to achieve something visually, it's trying to feel real in terms of science-fiction.', 'metadata': {'id': '10', 'author': 'Wikipedia', 'fullText': \"Development on the film began in November 2019, when Gareth Edwards signed on to direct and write an untitled science fiction project for New Regency to produce, along with Edwards' Rogue One: A Star Wars Story (2016) co-producer Kiri Hart serving as producer. A test shoot and location scouting was conducted that year, with Edwards using it as the opportunity to envision the look of the film. He described the process: 'I took a camera and a 1970s anamorphic lens, we went location-scouting in Vietnam, Cambodia, Japan, Indonesia, Thailand, and Nepal. Our whole plan was just to go to the greatest locations in the world, because the cost of a flight is way less than the cost of building a set. We were going to hopscotch around the world and shoot this film, then layer in the science-fiction on top afterwards. If our film is trying to achieve something visually, it's trying to feel real in terms of science-fiction.'\", 'sentiment_label': \"Le développement du film a commencé en novembre 2019, lorsque Gareth Edwards s'est engagé à diriger et à rédiger un projet non intitulé de science-fiction pour la production de New Regency, en compagnie de Kiri Hart, coproductrice de Rogue One: A Star Wars Story (2016). Un tournage d'essai et des scouts sur les lieux ont été effectués cette année-là, Edwards utilisant cette occasion pour\", 'sentiment_score': 0.6624099016189575, 'translation_text': \"Le développement du film a commencé en novembre 2019, lorsque Gareth Edwards s'est engagé à diriger et à rédiger un projet non intitulé de science-fiction pour la production de New Regency, en compagnie de Kiri Hart, coproductrice de Rogue One: A Star Wars Story (2016). Un tournage d'essai et des scouts sur les lieux ont été effectués cette année-là, Edwards utilisant cette occasion pour\"}, 'sentiment-analysis': {'label': 'POSITIVE', 'score': 0.6624099016189575}}}\n"
     ]
    }
   ],
   "source": [
    "texts = my_corpus.get_document_texts()\n",
    "# there are two ways to get the text from each entry in the corpus\n",
    "# print the texts\n",
    "print(*texts, sep = \"\\n\")\n",
    "# do sentiment analysis\n",
    "results = []\n",
    "for doc in texts:\n",
    "    results.extend(classifier2(str(doc[1])))\n",
    "# print the results\n",
    "print(results)\n",
    "# add the sentiment label and score into the metadata for each entry in the corpus\n",
    "for i, result in enumerate(results):\n",
    "    my_corpus.update_document_metadata(texts[i][0], result)\n",
    "print(my_corpus)"
   ]
  },
  {
   "cell_type": "markdown",
   "metadata": {},
   "source": [
    "### Add sentiment analysis to our `corpus` class\n",
    "\n",
    "In the `corpus` class, add some code to run sentiment analysis to the `add_document` method. \n",
    "\n",
    "In `get_basic_statistics`, print out the number of documents, number of sentences and number of positive, neutral and negative documents.\n",
    "\n",
    "Use the code cell below to test.\n"
   ]
  },
  {
   "cell_type": "code",
   "execution_count": 19,
   "metadata": {},
   "outputs": [
    {
     "name": "stdout",
     "output_type": "stream",
     "text": [
      "{'1': {'doc': It's a shame that the weak writing undermines The Creator so much, as there are some intriguing concepts that could have been compelling if executed better. For the most part, it's a mishmash of other movies with not much to say on its own., 'metadata': {'id': '1', 'author': 'Michelle Kisner', 'fullText': \"It's a shame that the weak writing undermines The Creator so much, as there are some intriguing concepts that could have been compelling if executed better. For the most part, it's a mishmash of other movies with not much to say on its own.\"}, 'sentiment-analysis': {'label': 'NEGATIVE', 'score': 0.9997203946113586}}, '2': {'doc': Although 'New Asia' is America's enemy, we are encouraged to transfer our sympathies in that direction. Yet the abiding vision of Asian life is a mass of touristic clichés seen through western eyes., 'metadata': {'id': '2', 'author': 'John McDonald', 'fullText': \"Although 'New Asia' is America's enemy, we are encouraged to transfer our sympathies in that direction. Yet the abiding vision of Asian life is a mass of touristic clichés seen through western eyes.\"}, 'sentiment-analysis': {'label': 'NEGATIVE', 'score': 0.9748802781105042}}, '3': {'doc': The Creator has astonishing visuals, but that's where its charm ends. While the performances are strong, thrilling elements of the film swap actual excitement for a more traditional science fiction film that pays tribute to its influences and little else., 'metadata': {'id': '3', 'author': 'Chris Sawin', 'fullText': \"The Creator has astonishing visuals, but that's where its charm ends. While the performances are strong, thrilling elements of the film swap actual excitement for a more traditional science fiction film that pays tribute to its influences and little else.\"}, 'sentiment-analysis': {'label': 'POSITIVE', 'score': 0.9934230446815491}}, '4': {'doc': The Creator is incredibly immersive from a visual and world building perspective, however it leaves a lot to be desired with its writing., 'metadata': {'id': '4', 'author': 'JD Duran', 'fullText': 'The Creator is incredibly immersive from a visual and world building perspective, however it leaves a lot to be desired with its writing.'}, 'sentiment-analysis': {'label': 'NEGATIVE', 'score': 0.9772546291351318}}, '5': {'doc': The Creator is a gorgeous feature in all the ways that matter and it's certainly a sci-fi epic that shouldn't be missed in a year that's severely lacking the charm of an old-fashioned blockbuster!, 'metadata': {'id': '5', 'author': 'Connor Petrey', 'fullText': \"The Creator is a gorgeous feature in all the ways that matter and it's certainly a sci-fi epic that shouldn't be missed in a year that's severely lacking the charm of an old-fashioned blockbuster!\"}, 'sentiment-analysis': {'label': 'POSITIVE', 'score': 0.9936063289642334}}, '6': {'doc': Sincere in its execution and with at times a mystifying beauty, as well as some serious thrills, Edwards has yet again rewarded audiences with his leap of faith., 'metadata': {'id': '6', 'author': 'James Hanton', 'fullText': 'Sincere in its execution and with at times a mystifying beauty, as well as some serious thrills, Edwards has yet again rewarded audiences with his leap of faith.'}, 'sentiment-analysis': {'label': 'POSITIVE', 'score': 0.9998550415039062}}, '7': {'doc': The Creator is a thought-provoking, visually memorizing, sci-fi journey that'll tantalize the imagination. Director Gareth Edwards put together an intellectually stimulating film that really challenges audiences to wrestle with profound questions., 'metadata': {'id': '7', 'author': 'Emmanuel Noisette', 'fullText': \"The Creator is a thought-provoking, visually memorizing, sci-fi journey that'll tantalize the imagination. Director Gareth Edwards put together an intellectually stimulating film that really challenges audiences to wrestle with profound questions.\"}, 'sentiment-analysis': {'label': 'POSITIVE', 'score': 0.9998666048049927}}, '8': {'doc': Writer-director Gareth Edwards and his collaborator, Chris Weitz, have crafted a script which tries so hard to cover all the ethical dilemmas posed by the rise of artificial intelligence that I'm not sure what it's meant to be saying., 'metadata': {'id': '8', 'author': 'Sandra Hall', 'fullText': \"Writer-director Gareth Edwards and his collaborator, Chris Weitz, have crafted a script which tries so hard to cover all the ethical dilemmas posed by the rise of artificial intelligence that I'm not sure what it's meant to be saying.\"}, 'sentiment-analysis': {'label': 'NEGATIVE', 'score': 0.9866374731063843}}, '9': {'doc': The Creator is a 2023 American science fiction action film produced and directed by Gareth Edwards, who co-wrote the screenplay with Chris Weitz. The film stars John David Washington, Gemma Chan, Ken Watanabe, Sturgill Simpson and Allison Janney. Set in 2070, 15 years after a nuclear detonation in Los Angeles and a war against artificial intelligence, an ex-special forces agent is recruited to hunt down and kill the 'Creator,' who has developed a mysterious weapon with the power to end the war., 'metadata': {'id': '9', 'author': 'Wikipedia', 'fullText': \"The Creator is a 2023 American science fiction action film produced and directed by Gareth Edwards, who co-wrote the screenplay with Chris Weitz. The film stars John David Washington, Gemma Chan, Ken Watanabe, Sturgill Simpson and Allison Janney. Set in 2070, 15 years after a nuclear detonation in Los Angeles and a war against artificial intelligence, an ex-special forces agent is recruited to hunt down and kill the 'Creator,' who has developed a mysterious weapon with the power to end the war.\"}, 'sentiment-analysis': {'label': 'POSITIVE', 'score': 0.9977133274078369}}, '10': {'doc': Development on the film began in November 2019, when Gareth Edwards signed on to direct and write an untitled science fiction project for New Regency to produce, along with Edwards' Rogue One: A Star Wars Story (2016) co-producer Kiri Hart serving as producer. A test shoot and location scouting was conducted that year, with Edwards using it as the opportunity to envision the look of the film. He described the process: 'I took a camera and a 1970s anamorphic lens, we went location-scouting in Vietnam, Cambodia, Japan, Indonesia, Thailand, and Nepal. Our whole plan was just to go to the greatest locations in the world, because the cost of a flight is way less than the cost of building a set. We were going to hopscotch around the world and shoot this film, then layer in the science-fiction on top afterwards. If our film is trying to achieve something visually, it's trying to feel real in terms of science-fiction.', 'metadata': {'id': '10', 'author': 'Wikipedia', 'fullText': \"Development on the film began in November 2019, when Gareth Edwards signed on to direct and write an untitled science fiction project for New Regency to produce, along with Edwards' Rogue One: A Star Wars Story (2016) co-producer Kiri Hart serving as producer. A test shoot and location scouting was conducted that year, with Edwards using it as the opportunity to envision the look of the film. He described the process: 'I took a camera and a 1970s anamorphic lens, we went location-scouting in Vietnam, Cambodia, Japan, Indonesia, Thailand, and Nepal. Our whole plan was just to go to the greatest locations in the world, because the cost of a flight is way less than the cost of building a set. We were going to hopscotch around the world and shoot this film, then layer in the science-fiction on top afterwards. If our film is trying to achieve something visually, it's trying to feel real in terms of science-fiction.'\"}, 'sentiment-analysis': {'label': 'POSITIVE', 'score': 0.6624099016189575}}}\n"
     ]
    }
   ],
   "source": [
    "from spacy_on_corpus import corpus\n",
    "my_corpus = corpus()\n",
    "my_corpus = corpus.build_corpus('creator.jsonl', my_corpus= my_corpus)\n",
    "print(my_corpus)"
   ]
  },
  {
   "cell_type": "code",
   "execution_count": 3,
   "metadata": {},
   "outputs": [
    {
     "name": "stdout",
     "output_type": "stream",
     "text": [
      "Documents: 10\n",
      "Sentences: 21\n",
      "Tokens: 539\n",
      "Unique tokens: 311\n",
      "Entities: 34\n",
      "Unique Entities: 28\n",
      "Noun chunks: 144\n",
      "Unique Noun chunks: 115\n",
      "Positive Documents: 6\n",
      "Neutral Docuements: 0\n",
      "Negative Docuements: 4\n",
      "\n"
     ]
    }
   ],
   "source": [
    "\n",
    "print(my_corpus.get_basic_statistics())"
   ]
  },
  {
   "cell_type": "markdown",
   "metadata": {},
   "source": [
    "### Add sentiment analysis to our web app's server\n",
    "\n",
    "In the notebook for project4a:\n",
    "\n",
    "1. define a function `get_corpus_sentiment` that returns a list of sentiment types and their frequencies (a counter of positive sentiment, negative sentiment and neutral sentiment documents in the corpus).\n",
    "2. define a function `get_corpus_statistics` that calls `get_basic_statistics`.\n",
    "\n",
    "Use the code cell below to test.\n"
   ]
  },
  {
   "cell_type": "code",
   "execution_count": null,
   "metadata": {},
   "outputs": [],
   "source": []
  },
  {
   "cell_type": "markdown",
   "metadata": {},
   "source": [
    "### Add sentiment analysis to our web app's client\n",
    "\n",
    "In your web app, add the ability to plot corpus sentiment:\n",
    "1. Add a button for sentiment to the `Analyze Corpus` form\n",
    "2. Add a function in the code for that form that calls `get_corpus_sentiment`\n",
    "3. Add a plot of the sentiment counts to the web app\n",
    "4. On the `Build Corpus` form, print the basic statistics after each action is performed"
   ]
  },
  {
   "cell_type": "markdown",
   "metadata": {},
   "source": [
    "### Questions\n",
    "\n",
    "4. *Why did we add `update_document_metadata` to our corpus class?*\n",
    "If we want to add new metadata to a document we can with this method\n",
    "5. *Run the sentiment analysis on this corpus. For which documents do you agree with the assigned sentiment, and for which do you disagree?*\n"
   ]
  },
  {
   "cell_type": "markdown",
   "metadata": {},
   "source": [
    "## Summarization\n",
    "\n",
    "Let's try a transformers single-document summarization pipeline.\n",
    "\n",
    "In the code cell below, summarize each document. Add each summary to the corresponding document's metadata in the corpus."
   ]
  },
  {
   "cell_type": "code",
   "execution_count": null,
   "metadata": {},
   "outputs": [
    {
     "ename": "NameError",
     "evalue": "name 'pipeline' is not defined",
     "output_type": "error",
     "traceback": [
      "\u001b[0;31m---------------------------------------------------------------------------\u001b[0m",
      "\u001b[0;31mNameError\u001b[0m                                 Traceback (most recent call last)",
      "\u001b[1;32m/workspaces/project-4a-the-web-app-benjamin-wintersteen/project4b.ipynb Cell 37\u001b[0m line \u001b[0;36m1\n\u001b[0;32m----> <a href='vscode-notebook-cell://codespaces%2Bspecial-trout-wr74wwgppxprcv5x/workspaces/project-4a-the-web-app-benjamin-wintersteen/project4b.ipynb#X51sdnNjb2RlLXJlbW90ZQ%3D%3D?line=0'>1</a>\u001b[0m summarizer \u001b[39m=\u001b[39m pipeline(\u001b[39m\"\u001b[39m\u001b[39msummarization\u001b[39m\u001b[39m\"\u001b[39m)\n\u001b[1;32m      <a href='vscode-notebook-cell://codespaces%2Bspecial-trout-wr74wwgppxprcv5x/workspaces/project-4a-the-web-app-benjamin-wintersteen/project4b.ipynb#X51sdnNjb2RlLXJlbW90ZQ%3D%3D?line=2'>3</a>\u001b[0m \u001b[39m# get the documents and their ids\u001b[39;00m\n\u001b[1;32m      <a href='vscode-notebook-cell://codespaces%2Bspecial-trout-wr74wwgppxprcv5x/workspaces/project-4a-the-web-app-benjamin-wintersteen/project4b.ipynb#X51sdnNjb2RlLXJlbW90ZQ%3D%3D?line=3'>4</a>\u001b[0m texts \u001b[39m=\u001b[39m my_corpus\u001b[39m.\u001b[39mget_document_texts()\n",
      "\u001b[0;31mNameError\u001b[0m: name 'pipeline' is not defined"
     ]
    }
   ],
   "source": [
    "summarizer = pipeline(\"summarization\")\n",
    "\n",
    "# get the documents and their ids\n",
    "texts = my_corpus.get_document_texts()\n",
    "# summarize\n",
    "results = []\n",
    "for doc in texts:\n",
    "    results.extend(summarizer(str(texts[1])))\n",
    "# add the summaries to the documents' metadatas\n"
   ]
  },
  {
   "cell_type": "markdown",
   "metadata": {},
   "source": [
    "Maybe we think those summaries are too long or too short. Let's exert more control."
   ]
  },
  {
   "cell_type": "code",
   "execution_count": null,
   "metadata": {},
   "outputs": [],
   "source": [
    "# get the documents and their ids\n",
    "\n",
    "# summarize\n",
    "results = summarizer(..., min_length=5, max_length=20)\n",
    "\n",
    "# add the summaries to the documents' metadatas\n"
   ]
  },
  {
   "cell_type": "markdown",
   "metadata": {},
   "source": [
    "Is that better?\n",
    "\n",
    "What if we used a different model? In the code cell below, try a different summarizer model."
   ]
  },
  {
   "cell_type": "code",
   "execution_count": null,
   "metadata": {},
   "outputs": [],
   "source": []
  },
  {
   "cell_type": "markdown",
   "metadata": {},
   "source": [
    "Is that better?\n",
    "\n",
    "Notice that when you instantiate a pipeline, hugginface downloads a model. Any transformer model is pretty big. Some are a lot bigger than others. Downloading a model (and then loading it) takes time, which is why once we've made a pipeline it's good to keep it around if we are going to process a lot of documents."
   ]
  },
  {
   "cell_type": "markdown",
   "metadata": {},
   "source": [
    "### Add summarization to our `corpus` class\n",
    "\n",
    "In the `corpus` class, add some code to run single-document summarization to the `add_document` method.\n"
   ]
  },
  {
   "cell_type": "code",
   "execution_count": null,
   "metadata": {},
   "outputs": [],
   "source": []
  },
  {
   "cell_type": "markdown",
   "metadata": {},
   "source": [
    "### Add summarization to our web app's server\n",
    "\n",
    "In the notebook for project4a, define a function `get_document_summary` that gets the summary for a single document id. It should return the text summary.\n",
    "\n",
    "Use the code cell below to test.\n"
   ]
  },
  {
   "cell_type": "code",
   "execution_count": null,
   "metadata": {},
   "outputs": [],
   "source": []
  },
  {
   "cell_type": "markdown",
   "metadata": {},
   "source": [
    "### Add summarization our web app's client\n",
    "\n",
    "In your web app, add the ability to display a document summary:\n",
    "1. Add a button for summary to the `Analyze Document` form\n",
    "2. Add a function in the code for that form that calls `get_document_summary`\n",
    "3. Render the document summary in the web app"
   ]
  },
  {
   "cell_type": "markdown",
   "metadata": {},
   "source": [
    "### Questions\n",
    "\n",
    "6. *Look at the generated summaries. Are they extractive or abstractive? In other words, is every word in a summary in the document it comes from?*\n",
    "7. *Play around with summary lengths. Is there a good length - either an absolutely ideal length, or a fraction of the length of the input document? Why or why not?*"
   ]
  },
  {
   "cell_type": "markdown",
   "metadata": {},
   "source": [
    "# Alternative 3: Using transformers in Other Packages\n",
    "\n",
    "Transformers are used in many other applications and python packages. Here we will look at one, BERTopic, which does topic modeling."
   ]
  },
  {
   "cell_type": "code",
   "execution_count": null,
   "metadata": {},
   "outputs": [],
   "source": [
    "# first, get the full texts from the corpus\n",
    "# get a lot of copies of them since we have a small corpus and topic modeling needs more documents\n",
    "full_texts = [my_corpus[x]['doc'].text for x in my_corpus]*50\n",
    "\n",
    "print(len(full_texts))"
   ]
  },
  {
   "cell_type": "markdown",
   "metadata": {},
   "source": [
    "### Topic modeling\n",
    "\n",
    "We set up BERTTopic with spaCy using the best practices from https://maartengr.github.io/BERTopic/getting_started/best_practices/best_practices.html."
   ]
  },
  {
   "cell_type": "code",
   "execution_count": null,
   "metadata": {},
   "outputs": [],
   "source": [
    "# Pre-calculate embeddings; consider any embedding model\n",
    "from sentence_transformers import SentenceTransformer\n",
    "\n",
    "embedding_model = SentenceTransformer(\"all-MiniLM-L6-v2\")\n",
    "embeddings = embedding_model.encode(full_texts, show_progress_bar=True)\n",
    "\n",
    "# Prevent stochastic behavior\n",
    "from umap import UMAP\n",
    "\n",
    "# choose a number of neighbors that's reasonable for your data set\n",
    "umap_model = UMAP(n_neighbors=5, n_components=5, min_dist=0.0, metric='cosine', random_state=42)\n",
    "\n",
    "# Set minimum cluster size\n",
    "from hdbscan import HDBSCAN\n",
    "\n",
    "# choose a minimum cluster size that's reasonable for your data set\n",
    "hdbscan_model = HDBSCAN(min_cluster_size=5, metric='euclidean', cluster_selection_method='eom', prediction_data=True)\n",
    "\n",
    "# I find this dubious but okay; \"Improve\" default representation\n",
    "from sklearn.feature_extraction.text import CountVectorizer\n",
    "\n",
    "vectorizer_model = CountVectorizer(stop_words=\"english\", min_df=2, ngram_range=(1, 2))\n",
    "\n",
    "# Use multiple representations\n",
    "from bertopic.representation import KeyBERTInspired, MaximalMarginalRelevance, PartOfSpeech\n",
    "\n",
    "# KeyBERT\n",
    "keybert_model = KeyBERTInspired()\n",
    "\n",
    "# Part-of-Speech\n",
    "pos_model = PartOfSpeech(\"en_core_web_md\")\n",
    "\n",
    "# MMR\n",
    "mmr_model = MaximalMarginalRelevance(diversity=0.3)\n",
    "\n",
    "# All representation models\n",
    "representation_model = {\n",
    "    \"KeyBERT\": keybert_model,\n",
    "    \"MMR\": mmr_model,\n",
    "    \"POS\": pos_model\n",
    "}\n",
    "\n",
    "# Make topic model using all of this setup\n",
    "from bertopic import BERTopic\n",
    "\n",
    "topic_model = BERTopic(\n",
    "\n",
    "  # Pipeline models\n",
    "  embedding_model=embedding_model,\n",
    "  umap_model=umap_model,\n",
    "  hdbscan_model=hdbscan_model,\n",
    "  vectorizer_model=vectorizer_model,\n",
    "  representation_model=representation_model,\n",
    "\n",
    "  # Hyperparameters\n",
    "  top_n_words=10,\n",
    "  verbose=True,\n",
    "  nr_topics=\"auto\"\n",
    ")"
   ]
  },
  {
   "cell_type": "markdown",
   "metadata": {},
   "source": [
    "That bit takes awhile. Now we have a topic model, but what does it look like?"
   ]
  },
  {
   "cell_type": "code",
   "execution_count": null,
   "metadata": {},
   "outputs": [],
   "source": [
    "# extract the topics\n",
    "topics, probabilities = topic_model.fit_transform(full_texts, embeddings)"
   ]
  },
  {
   "cell_type": "markdown",
   "metadata": {},
   "source": [
    "Now at this point you will iterate through one or both of the steps below til you are happy(ish).\n",
    "\n",
    "Look at the topics."
   ]
  },
  {
   "cell_type": "code",
   "execution_count": null,
   "metadata": {},
   "outputs": [],
   "source": [
    "# create a visualization of the topic model for this group\n",
    "topic_model.visualize_topics()"
   ]
  },
  {
   "cell_type": "markdown",
   "metadata": {},
   "source": [
    "Or maybe visualizing the documents will help more."
   ]
  },
  {
   "cell_type": "code",
   "execution_count": null,
   "metadata": {},
   "outputs": [],
   "source": [
    "# Reduce dimensionality of embeddings, this step is optional but much faster to perform iteratively:\n",
    "reduced_embeddings = UMAP(n_neighbors=10, n_components=2, min_dist=0.0, metric='cosine').fit_transform(embeddings)\n",
    "topic_model.visualize_documents(full_texts, reduced_embeddings=reduced_embeddings)"
   ]
  },
  {
   "cell_type": "markdown",
   "metadata": {},
   "source": [
    "Maybe you look at the visualization and you know the number of topics you want to end up with."
   ]
  },
  {
   "cell_type": "code",
   "execution_count": null,
   "metadata": {},
   "outputs": [],
   "source": [
    "topic_model.reduce_topics(full_texts, nr_topics=7)"
   ]
  },
  {
   "cell_type": "markdown",
   "metadata": {},
   "source": [
    "Or maybe you want to merge some topics, like topics 1 and 2 and topics 5 and 6."
   ]
  },
  {
   "cell_type": "code",
   "execution_count": null,
   "metadata": {},
   "outputs": [],
   "source": [
    "topics_to_merge = [[0, 1]]\n",
    "topic_model.merge_topics(full_texts, topics_to_merge)"
   ]
  },
  {
   "cell_type": "markdown",
   "metadata": {},
   "source": [
    "### Add topic modeling to our `corpus` class\n",
    "\n",
    "In the `corpus` class, add an instance method `build_topic_model` that runs topic modeling. \n",
    "\n",
    "Use the code cell below to test."
   ]
  },
  {
   "cell_type": "code",
   "execution_count": null,
   "metadata": {},
   "outputs": [],
   "source": []
  },
  {
   "cell_type": "markdown",
   "metadata": {},
   "source": [
    "### Add topic modeling to our web app's server\n",
    "\n",
    "In the notebook for project4a, define a function `get_topic_model_topics_plot` that returns the topic model plot.\n",
    "\n",
    "In the notebook for project4a, define a function `get_topic_model_documents_plot` that returns the topic model document plot.\n",
    "\n",
    "Use the code cell below to test.\n"
   ]
  },
  {
   "cell_type": "code",
   "execution_count": null,
   "metadata": {},
   "outputs": [],
   "source": []
  },
  {
   "cell_type": "markdown",
   "metadata": {},
   "source": [
    "\n",
    "### Add topic modeling to our web app's client\n",
    "\n",
    "In your web app, add the ability to display a document summary:\n",
    "1. Add a new form for topic modeling, called `Analyze Topics`\n",
    "2. Add it to the top right hand menu\n",
    "3. Add a function in the code for that form that calls `get_topic_model_topics_plot` and `get_topic_model_documents_plot`\n",
    "4. Render the two plots in the web app, side by side or one above the other"
   ]
  },
  {
   "cell_type": "markdown",
   "metadata": {},
   "source": [
    "### Questions\n",
    "\n",
    "8. *Can a document have two or more topics? Why or why not?*\n",
    "9. *Which do you think is more easy to understand as a 'capture' of a corpus - key phrases or topics? Why?*\n",
    "10. *Which flow control statement type do we use more often in the `corpus` class: for, while or if?*"
   ]
  },
  {
   "cell_type": "markdown",
   "metadata": {},
   "source": [
    "# Huggingface vs spaCy\n",
    "\n",
    "Huggingface and spaCy are different companies. Each company releases open source software.\n",
    "\n",
    "The huggingface software is the python package `transformers`.\n",
    "\n",
    "The spaCy software is the python package `spaCy`.\n",
    "\n",
    "Both softwares use models. spaCy has a whole set of models (the ones ending in `-trf`) that use huggingface transformers!\n",
    "\n",
    "spaCy can do some NLP tasks that huggingface can't do. \n",
    "\n",
    "The spaCy models are highly tuned and optimized for processing text using NLP. The huggingface models (e.g. for NER) are contributed by the community. \n",
    "\n",
    "The huggingface models focus more on NLP *applications* like summarization, sentiment analysis or translation.\n",
    "\n",
    "If you have a choice, I would use the spaCy models for text preprocessing. \n",
    "\n",
    "If you want to use a NLP application, huggingface is great."
   ]
  }
 ],
 "metadata": {
  "kernelspec": {
   "display_name": "Python 3 (ipykernel)",
   "language": "python",
   "name": "python3"
  },
  "language_info": {
   "codemirror_mode": {
    "name": "ipython",
    "version": 3
   },
   "file_extension": ".py",
   "mimetype": "text/x-python",
   "name": "python",
   "nbconvert_exporter": "python",
   "pygments_lexer": "ipython3",
   "version": "3.10.13"
  }
 },
 "nbformat": 4,
 "nbformat_minor": 5
}
